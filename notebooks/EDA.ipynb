{
 "cells": [
  {
   "cell_type": "markdown",
   "id": "a9bc90fb-d372-499c-997e-f81050f3cd66",
   "metadata": {},
   "source": [
    "# Data Wrangling and EDA"
   ]
  },
  {
   "cell_type": "code",
   "execution_count": 1,
   "id": "3c654bb6-eef4-4bef-bcbd-85efb77af084",
   "metadata": {
    "execution": {
     "iopub.execute_input": "2025-07-02T20:01:39.723996Z",
     "iopub.status.busy": "2025-07-02T20:01:39.723432Z",
     "iopub.status.idle": "2025-07-02T20:01:41.883101Z",
     "shell.execute_reply": "2025-07-02T20:01:41.881817Z",
     "shell.execute_reply.started": "2025-07-02T20:01:39.723958Z"
    }
   },
   "outputs": [
    {
     "name": "stdout",
     "output_type": "stream",
     "text": [
      "/home/sagemaker-user/.conda/envs/nutrisage-eda/bin/python\n",
      "nutrisage-eda\n",
      "\n"
     ]
    }
   ],
   "source": [
    "!conda run -n nutrisage-eda python -c \"import sys, os; print(sys.executable); print(os.environ['CONDA_DEFAULT_ENV'])\""
   ]
  },
  {
   "cell_type": "code",
   "execution_count": 2,
   "id": "bcf8cc8b-863d-42b0-96b3-ab2c03dac44d",
   "metadata": {
    "execution": {
     "iopub.execute_input": "2025-07-02T20:01:42.237958Z",
     "iopub.status.busy": "2025-07-02T20:01:42.237669Z",
     "iopub.status.idle": "2025-07-02T20:01:42.242582Z",
     "shell.execute_reply": "2025-07-02T20:01:42.241788Z",
     "shell.execute_reply.started": "2025-07-02T20:01:42.237930Z"
    }
   },
   "outputs": [],
   "source": [
    "from IPython.display import display"
   ]
  },
  {
   "cell_type": "markdown",
   "id": "c56acbfe-5036-4c3e-ae48-425a83357118",
   "metadata": {},
   "source": [
    "### 1. Quick Smoke Test"
   ]
  },
  {
   "cell_type": "code",
   "execution_count": 3,
   "id": "0c6d6e16-ab66-42d1-9140-2680bd7dcde8",
   "metadata": {
    "execution": {
     "iopub.execute_input": "2025-07-02T20:01:44.715585Z",
     "iopub.status.busy": "2025-07-02T20:01:44.715257Z",
     "iopub.status.idle": "2025-07-02T20:01:44.943074Z",
     "shell.execute_reply": "2025-07-02T20:01:44.942247Z",
     "shell.execute_reply.started": "2025-07-02T20:01:44.715556Z"
    }
   },
   "outputs": [],
   "source": [
    "from pyathena import connect\n",
    "\n",
    "conn = connect(s3_staging_dir = \"s3://nutrisage-athena-results-352364310453/athena-tmp/\",\n",
    "                region_name = \"us-east-1\")"
   ]
  },
  {
   "cell_type": "code",
   "execution_count": 4,
   "id": "75caa8c6-e73a-4d15-acb9-cf790803b22c",
   "metadata": {
    "execution": {
     "iopub.execute_input": "2025-07-02T20:01:47.310304Z",
     "iopub.status.busy": "2025-07-02T20:01:47.309696Z",
     "iopub.status.idle": "2025-07-02T20:01:56.418482Z",
     "shell.execute_reply": "2025-07-02T20:01:56.417696Z",
     "shell.execute_reply.started": "2025-07-02T20:01:47.310273Z"
    }
   },
   "outputs": [
    {
     "name": "stderr",
     "output_type": "stream",
     "text": [
      "/tmp/ipykernel_3494/3150741353.py:3: UserWarning: pandas only supports SQLAlchemy connectable (engine/connection) or database string URI or sqlite3 DBAPI2 connection. Other DBAPI2 objects are not tested. Please consider using SQLAlchemy.\n",
      "  df = pd.read_sql(\"SELECT count(*) AS rows FROM nutrisage_datalake.processed\", conn)\n"
     ]
    },
    {
     "data": {
      "text/html": [
       "<div>\n",
       "<style scoped>\n",
       "    .dataframe tbody tr th:only-of-type {\n",
       "        vertical-align: middle;\n",
       "    }\n",
       "\n",
       "    .dataframe tbody tr th {\n",
       "        vertical-align: top;\n",
       "    }\n",
       "\n",
       "    .dataframe thead th {\n",
       "        text-align: right;\n",
       "    }\n",
       "</style>\n",
       "<table border=\"1\" class=\"dataframe\">\n",
       "  <thead>\n",
       "    <tr style=\"text-align: right;\">\n",
       "      <th></th>\n",
       "      <th>rows</th>\n",
       "    </tr>\n",
       "  </thead>\n",
       "  <tbody>\n",
       "    <tr>\n",
       "      <th>0</th>\n",
       "      <td>3796056</td>\n",
       "    </tr>\n",
       "  </tbody>\n",
       "</table>\n",
       "</div>"
      ],
      "text/plain": [
       "      rows\n",
       "0  3796056"
      ]
     },
     "metadata": {},
     "output_type": "display_data"
    }
   ],
   "source": [
    "import pandas as pd\n",
    "\n",
    "df = pd.read_sql(\"SELECT count(*) AS rows FROM nutrisage_datalake.processed\", conn)\n",
    "display(df)"
   ]
  },
  {
   "cell_type": "markdown",
   "id": "013b74af-0281-4d14-90d2-8812f9d21bd1",
   "metadata": {
    "execution": {
     "iopub.execute_input": "2025-07-01T14:16:01.990316Z",
     "iopub.status.busy": "2025-07-01T14:16:01.987344Z",
     "iopub.status.idle": "2025-07-01T14:16:02.009368Z",
     "shell.execute_reply": "2025-07-01T14:16:02.008320Z",
     "shell.execute_reply.started": "2025-07-01T14:16:01.990267Z"
    }
   },
   "source": [
    "### 2. Automated Data Profiling"
   ]
  },
  {
   "cell_type": "code",
   "execution_count": 5,
   "id": "e3beeff2-2164-4373-afce-b82714060e27",
   "metadata": {
    "execution": {
     "iopub.execute_input": "2025-07-02T20:02:19.924516Z",
     "iopub.status.busy": "2025-07-02T20:02:19.923850Z",
     "iopub.status.idle": "2025-07-02T20:04:17.183239Z",
     "shell.execute_reply": "2025-07-02T20:04:17.182427Z",
     "shell.execute_reply.started": "2025-07-02T20:02:19.924484Z"
    }
   },
   "outputs": [
    {
     "name": "stderr",
     "output_type": "stream",
     "text": [
      "/tmp/ipykernel_3494/2060585798.py:1: UserWarning: pandas only supports SQLAlchemy connectable (engine/connection) or database string URI or sqlite3 DBAPI2 connection. Other DBAPI2 objects are not tested. Please consider using SQLAlchemy.\n",
      "  sample_df = pd.read_sql(\"\"\"\n"
     ]
    }
   ],
   "source": [
    "sample_df = pd.read_sql(\"\"\"\n",
    "    SELECT *\n",
    "    FROM nutrisage_datalake.processed\n",
    "    TABLESAMPLE BERNOULLI (10)\n",
    "    \"\"\", conn)"
   ]
  },
  {
   "cell_type": "code",
   "execution_count": 6,
   "id": "3001e75c-d0fb-47ca-ad65-fccbfa14703e",
   "metadata": {
    "execution": {
     "iopub.execute_input": "2025-07-02T20:04:42.642313Z",
     "iopub.status.busy": "2025-07-02T20:04:42.641594Z",
     "iopub.status.idle": "2025-07-02T20:04:42.647620Z",
     "shell.execute_reply": "2025-07-02T20:04:42.646465Z",
     "shell.execute_reply.started": "2025-07-02T20:04:42.642274Z"
    }
   },
   "outputs": [
    {
     "data": {
      "text/plain": [
       "(379863, 19)"
      ]
     },
     "metadata": {},
     "output_type": "display_data"
    }
   ],
   "source": [
    "display(sample_df.shape)"
   ]
  },
  {
   "cell_type": "code",
   "execution_count": 7,
   "id": "899df4b8-a019-4744-85f8-33836309007f",
   "metadata": {
    "execution": {
     "iopub.execute_input": "2025-07-02T20:04:48.210887Z",
     "iopub.status.busy": "2025-07-02T20:04:48.210492Z",
     "iopub.status.idle": "2025-07-02T20:04:48.239814Z",
     "shell.execute_reply": "2025-07-02T20:04:48.238980Z",
     "shell.execute_reply.started": "2025-07-02T20:04:48.210861Z"
    }
   },
   "outputs": [
    {
     "data": {
      "text/html": [
       "<div>\n",
       "<style scoped>\n",
       "    .dataframe tbody tr th:only-of-type {\n",
       "        vertical-align: middle;\n",
       "    }\n",
       "\n",
       "    .dataframe tbody tr th {\n",
       "        vertical-align: top;\n",
       "    }\n",
       "\n",
       "    .dataframe thead th {\n",
       "        text-align: right;\n",
       "    }\n",
       "</style>\n",
       "<table border=\"1\" class=\"dataframe\">\n",
       "  <thead>\n",
       "    <tr style=\"text-align: right;\">\n",
       "      <th></th>\n",
       "      <th>energy_100g</th>\n",
       "      <th>energy-kcal_100g</th>\n",
       "      <th>fat_100g</th>\n",
       "      <th>saturated-fat_100g</th>\n",
       "      <th>carbohydrates_100g</th>\n",
       "      <th>sugars_100g</th>\n",
       "      <th>fiber_100g</th>\n",
       "      <th>proteins_100g</th>\n",
       "      <th>sodium_100g</th>\n",
       "      <th>product_name</th>\n",
       "      <th>main_category</th>\n",
       "      <th>categories_tags</th>\n",
       "      <th>brands_tags</th>\n",
       "      <th>countries_tags</th>\n",
       "      <th>serving_size</th>\n",
       "      <th>created_t</th>\n",
       "      <th>nutrition_grade_fr</th>\n",
       "      <th>year</th>\n",
       "      <th>country</th>\n",
       "    </tr>\n",
       "  </thead>\n",
       "  <tbody>\n",
       "    <tr>\n",
       "      <th>0</th>\n",
       "      <td>NaN</td>\n",
       "      <td>NaN</td>\n",
       "      <td>NaN</td>\n",
       "      <td>NaN</td>\n",
       "      <td>NaN</td>\n",
       "      <td>NaN</td>\n",
       "      <td>NaN</td>\n",
       "      <td>NaN</td>\n",
       "      <td>NaN</td>\n",
       "      <td>CARNATION Ground Cinnamon 34g</td>\n",
       "      <td>None</td>\n",
       "      <td>[]</td>\n",
       "      <td>[]</td>\n",
       "      <td>[en:cyprus]</td>\n",
       "      <td>None</td>\n",
       "      <td>1511980115</td>\n",
       "      <td>unknown</td>\n",
       "      <td>2017</td>\n",
       "      <td>cyprus</td>\n",
       "    </tr>\n",
       "    <tr>\n",
       "      <th>1</th>\n",
       "      <td>303.0</td>\n",
       "      <td>73.0</td>\n",
       "      <td>4.2</td>\n",
       "      <td>2.8</td>\n",
       "      <td>5.2</td>\n",
       "      <td>5.2</td>\n",
       "      <td>0.0</td>\n",
       "      <td>3.5</td>\n",
       "      <td>0.04</td>\n",
       "      <td>NOUNOU evaporated milk</td>\n",
       "      <td>None</td>\n",
       "      <td>[en:dairies, en:milks, en:evaporated-milks, en...</td>\n",
       "      <td>[xx:nounou]</td>\n",
       "      <td>[en:cyprus, en:greece, en:serbia]</td>\n",
       "      <td>250ml</td>\n",
       "      <td>1511979999</td>\n",
       "      <td>c</td>\n",
       "      <td>2017</td>\n",
       "      <td>cyprus</td>\n",
       "    </tr>\n",
       "    <tr>\n",
       "      <th>2</th>\n",
       "      <td>188.0</td>\n",
       "      <td>45.0</td>\n",
       "      <td>0.0</td>\n",
       "      <td>0.0</td>\n",
       "      <td>21.6</td>\n",
       "      <td>21.6</td>\n",
       "      <td>NaN</td>\n",
       "      <td>0.2</td>\n",
       "      <td>0.00</td>\n",
       "      <td>Wow! Fruit Juice</td>\n",
       "      <td>None</td>\n",
       "      <td>[]</td>\n",
       "      <td>[]</td>\n",
       "      <td>[en:chad]</td>\n",
       "      <td>None</td>\n",
       "      <td>1484259724</td>\n",
       "      <td>unknown</td>\n",
       "      <td>2017</td>\n",
       "      <td>chad</td>\n",
       "    </tr>\n",
       "    <tr>\n",
       "      <th>3</th>\n",
       "      <td>NaN</td>\n",
       "      <td>NaN</td>\n",
       "      <td>NaN</td>\n",
       "      <td>NaN</td>\n",
       "      <td>NaN</td>\n",
       "      <td>NaN</td>\n",
       "      <td>NaN</td>\n",
       "      <td>NaN</td>\n",
       "      <td>NaN</td>\n",
       "      <td>Cheerios</td>\n",
       "      <td>None</td>\n",
       "      <td>[]</td>\n",
       "      <td>[xx:nestle]</td>\n",
       "      <td>[en:guatemala]</td>\n",
       "      <td>None</td>\n",
       "      <td>1490819981</td>\n",
       "      <td>unknown</td>\n",
       "      <td>2017</td>\n",
       "      <td>guatemala</td>\n",
       "    </tr>\n",
       "    <tr>\n",
       "      <th>4</th>\n",
       "      <td>179.0</td>\n",
       "      <td>42.0</td>\n",
       "      <td>0.2</td>\n",
       "      <td>0.1</td>\n",
       "      <td>8.5</td>\n",
       "      <td>4.5</td>\n",
       "      <td>NaN</td>\n",
       "      <td>1.0</td>\n",
       "      <td>1.00</td>\n",
       "      <td>Sauce fajitas</td>\n",
       "      <td>None</td>\n",
       "      <td>[en:condiments, en:sauces, en:groceries]</td>\n",
       "      <td>[poco-loco]</td>\n",
       "      <td>[en:belgie, en:frankrijk]</td>\n",
       "      <td>None</td>\n",
       "      <td>1490728394</td>\n",
       "      <td>d</td>\n",
       "      <td>2017</td>\n",
       "      <td>belgie</td>\n",
       "    </tr>\n",
       "  </tbody>\n",
       "</table>\n",
       "</div>"
      ],
      "text/plain": [
       "   energy_100g  energy-kcal_100g  fat_100g  saturated-fat_100g  \\\n",
       "0          NaN               NaN       NaN                 NaN   \n",
       "1        303.0              73.0       4.2                 2.8   \n",
       "2        188.0              45.0       0.0                 0.0   \n",
       "3          NaN               NaN       NaN                 NaN   \n",
       "4        179.0              42.0       0.2                 0.1   \n",
       "\n",
       "   carbohydrates_100g  sugars_100g  fiber_100g  proteins_100g  sodium_100g  \\\n",
       "0                 NaN          NaN         NaN            NaN          NaN   \n",
       "1                 5.2          5.2         0.0            3.5         0.04   \n",
       "2                21.6         21.6         NaN            0.2         0.00   \n",
       "3                 NaN          NaN         NaN            NaN          NaN   \n",
       "4                 8.5          4.5         NaN            1.0         1.00   \n",
       "\n",
       "                    product_name main_category  \\\n",
       "0  CARNATION Ground Cinnamon 34g          None   \n",
       "1         NOUNOU evaporated milk          None   \n",
       "2               Wow! Fruit Juice          None   \n",
       "3                       Cheerios          None   \n",
       "4                  Sauce fajitas          None   \n",
       "\n",
       "                                     categories_tags  brands_tags  \\\n",
       "0                                                 []           []   \n",
       "1  [en:dairies, en:milks, en:evaporated-milks, en...  [xx:nounou]   \n",
       "2                                                 []           []   \n",
       "3                                                 []  [xx:nestle]   \n",
       "4           [en:condiments, en:sauces, en:groceries]  [poco-loco]   \n",
       "\n",
       "                      countries_tags serving_size   created_t  \\\n",
       "0                        [en:cyprus]         None  1511980115   \n",
       "1  [en:cyprus, en:greece, en:serbia]        250ml  1511979999   \n",
       "2                          [en:chad]         None  1484259724   \n",
       "3                     [en:guatemala]         None  1490819981   \n",
       "4          [en:belgie, en:frankrijk]         None  1490728394   \n",
       "\n",
       "  nutrition_grade_fr  year    country  \n",
       "0            unknown  2017     cyprus  \n",
       "1                  c  2017     cyprus  \n",
       "2            unknown  2017       chad  \n",
       "3            unknown  2017  guatemala  \n",
       "4                  d  2017     belgie  "
      ]
     },
     "metadata": {},
     "output_type": "display_data"
    }
   ],
   "source": [
    "display(sample_df.head(5))"
   ]
  },
  {
   "cell_type": "code",
   "execution_count": 8,
   "id": "0143b8ca-01d3-4623-9f65-db7f6d371e46",
   "metadata": {
    "execution": {
     "iopub.execute_input": "2025-07-02T20:04:52.512938Z",
     "iopub.status.busy": "2025-07-02T20:04:52.512655Z",
     "iopub.status.idle": "2025-07-02T20:04:52.725167Z",
     "shell.execute_reply": "2025-07-02T20:04:52.724312Z",
     "shell.execute_reply.started": "2025-07-02T20:04:52.512917Z"
    }
   },
   "outputs": [
    {
     "data": {
      "text/html": [
       "<div>\n",
       "<style scoped>\n",
       "    .dataframe tbody tr th:only-of-type {\n",
       "        vertical-align: middle;\n",
       "    }\n",
       "\n",
       "    .dataframe tbody tr th {\n",
       "        vertical-align: top;\n",
       "    }\n",
       "\n",
       "    .dataframe thead th {\n",
       "        text-align: right;\n",
       "    }\n",
       "</style>\n",
       "<table border=\"1\" class=\"dataframe\">\n",
       "  <thead>\n",
       "    <tr style=\"text-align: right;\">\n",
       "      <th></th>\n",
       "      <th>energy_100g</th>\n",
       "      <th>energy-kcal_100g</th>\n",
       "      <th>fat_100g</th>\n",
       "      <th>saturated-fat_100g</th>\n",
       "      <th>carbohydrates_100g</th>\n",
       "      <th>sugars_100g</th>\n",
       "      <th>fiber_100g</th>\n",
       "      <th>proteins_100g</th>\n",
       "      <th>sodium_100g</th>\n",
       "      <th>product_name</th>\n",
       "      <th>main_category</th>\n",
       "      <th>nutrition_grade_fr</th>\n",
       "      <th>year</th>\n",
       "      <th>country</th>\n",
       "    </tr>\n",
       "  </thead>\n",
       "  <tbody>\n",
       "    <tr>\n",
       "      <th>0</th>\n",
       "      <td>NaN</td>\n",
       "      <td>NaN</td>\n",
       "      <td>NaN</td>\n",
       "      <td>NaN</td>\n",
       "      <td>NaN</td>\n",
       "      <td>NaN</td>\n",
       "      <td>NaN</td>\n",
       "      <td>NaN</td>\n",
       "      <td>NaN</td>\n",
       "      <td>CARNATION Ground Cinnamon 34g</td>\n",
       "      <td>None</td>\n",
       "      <td>unknown</td>\n",
       "      <td>2017</td>\n",
       "      <td>cyprus</td>\n",
       "    </tr>\n",
       "    <tr>\n",
       "      <th>1</th>\n",
       "      <td>303.0</td>\n",
       "      <td>73.0</td>\n",
       "      <td>4.2</td>\n",
       "      <td>2.8</td>\n",
       "      <td>5.2</td>\n",
       "      <td>5.2</td>\n",
       "      <td>0.0</td>\n",
       "      <td>3.5</td>\n",
       "      <td>0.04</td>\n",
       "      <td>NOUNOU evaporated milk</td>\n",
       "      <td>None</td>\n",
       "      <td>c</td>\n",
       "      <td>2017</td>\n",
       "      <td>cyprus</td>\n",
       "    </tr>\n",
       "    <tr>\n",
       "      <th>2</th>\n",
       "      <td>188.0</td>\n",
       "      <td>45.0</td>\n",
       "      <td>0.0</td>\n",
       "      <td>0.0</td>\n",
       "      <td>21.6</td>\n",
       "      <td>21.6</td>\n",
       "      <td>NaN</td>\n",
       "      <td>0.2</td>\n",
       "      <td>0.00</td>\n",
       "      <td>Wow! Fruit Juice</td>\n",
       "      <td>None</td>\n",
       "      <td>unknown</td>\n",
       "      <td>2017</td>\n",
       "      <td>chad</td>\n",
       "    </tr>\n",
       "    <tr>\n",
       "      <th>3</th>\n",
       "      <td>NaN</td>\n",
       "      <td>NaN</td>\n",
       "      <td>NaN</td>\n",
       "      <td>NaN</td>\n",
       "      <td>NaN</td>\n",
       "      <td>NaN</td>\n",
       "      <td>NaN</td>\n",
       "      <td>NaN</td>\n",
       "      <td>NaN</td>\n",
       "      <td>Cheerios</td>\n",
       "      <td>None</td>\n",
       "      <td>unknown</td>\n",
       "      <td>2017</td>\n",
       "      <td>guatemala</td>\n",
       "    </tr>\n",
       "    <tr>\n",
       "      <th>4</th>\n",
       "      <td>179.0</td>\n",
       "      <td>42.0</td>\n",
       "      <td>0.2</td>\n",
       "      <td>0.1</td>\n",
       "      <td>8.5</td>\n",
       "      <td>4.5</td>\n",
       "      <td>NaN</td>\n",
       "      <td>1.0</td>\n",
       "      <td>1.00</td>\n",
       "      <td>Sauce fajitas</td>\n",
       "      <td>None</td>\n",
       "      <td>d</td>\n",
       "      <td>2017</td>\n",
       "      <td>belgie</td>\n",
       "    </tr>\n",
       "  </tbody>\n",
       "</table>\n",
       "</div>"
      ],
      "text/plain": [
       "   energy_100g  energy-kcal_100g  fat_100g  saturated-fat_100g  \\\n",
       "0          NaN               NaN       NaN                 NaN   \n",
       "1        303.0              73.0       4.2                 2.8   \n",
       "2        188.0              45.0       0.0                 0.0   \n",
       "3          NaN               NaN       NaN                 NaN   \n",
       "4        179.0              42.0       0.2                 0.1   \n",
       "\n",
       "   carbohydrates_100g  sugars_100g  fiber_100g  proteins_100g  sodium_100g  \\\n",
       "0                 NaN          NaN         NaN            NaN          NaN   \n",
       "1                 5.2          5.2         0.0            3.5         0.04   \n",
       "2                21.6         21.6         NaN            0.2         0.00   \n",
       "3                 NaN          NaN         NaN            NaN          NaN   \n",
       "4                 8.5          4.5         NaN            1.0         1.00   \n",
       "\n",
       "                    product_name main_category nutrition_grade_fr  year  \\\n",
       "0  CARNATION Ground Cinnamon 34g          None            unknown  2017   \n",
       "1         NOUNOU evaporated milk          None                  c  2017   \n",
       "2               Wow! Fruit Juice          None            unknown  2017   \n",
       "3                       Cheerios          None            unknown  2017   \n",
       "4                  Sauce fajitas          None                  d  2017   \n",
       "\n",
       "     country  \n",
       "0     cyprus  \n",
       "1     cyprus  \n",
       "2       chad  \n",
       "3  guatemala  \n",
       "4     belgie  "
      ]
     },
     "metadata": {},
     "output_type": "display_data"
    }
   ],
   "source": [
    "# remove some redundant and messy columns before data profiling\n",
    "list_cols = ['categories_tags', 'brands_tags', 'countries_tags', 'serving_size', 'created_t']\n",
    "\n",
    "df_clean = sample_df.copy()\n",
    "\n",
    "# drop those columns\n",
    "df_clean = df_clean.drop(columns=list_cols)\n",
    "\n",
    "display(df_clean.head())"
   ]
  },
  {
   "cell_type": "code",
   "execution_count": 9,
   "id": "953b0aef-42db-4b35-8077-83793cd2ba9f",
   "metadata": {
    "execution": {
     "iopub.execute_input": "2025-07-02T20:10:33.813414Z",
     "iopub.status.busy": "2025-07-02T20:10:33.813057Z",
     "iopub.status.idle": "2025-07-02T20:10:37.236965Z",
     "shell.execute_reply": "2025-07-02T20:10:37.235854Z",
     "shell.execute_reply.started": "2025-07-02T20:10:33.813388Z"
    }
   },
   "outputs": [
    {
     "data": {
      "text/html": [
       "\n",
       "            <div>\n",
       "                <ins><a href=\"https://ydata.ai/register\">Upgrade to ydata-sdk</a></ins>\n",
       "                <p>\n",
       "                    Improve your data and profiling with ydata-sdk, featuring data quality scoring, redundancy detection, outlier identification, text validation, and synthetic data generation.\n",
       "                </p>\n",
       "            </div>\n",
       "            "
      ],
      "text/plain": [
       "<IPython.core.display.HTML object>"
      ]
     },
     "metadata": {},
     "output_type": "display_data"
    }
   ],
   "source": [
    "# create profile report from cleaned dataset\n",
    "from ydata_profiling import ProfileReport\n",
    "import awswrangler as wr\n",
    "profile = ProfileReport(\n",
    "    df_clean,\n",
    "    minimal=True,\n",
    "    title=\"Nutrisage EDA (clean)\",\n",
    "    explorative=True\n",
    ")"
   ]
  },
  {
   "cell_type": "code",
   "execution_count": 21,
   "id": "f1046fcb-bf8f-4938-9268-2ce0ea65fc05",
   "metadata": {
    "execution": {
     "iopub.execute_input": "2025-07-02T20:22:39.931202Z",
     "iopub.status.busy": "2025-07-02T20:22:39.930819Z",
     "iopub.status.idle": "2025-07-02T20:22:44.877735Z",
     "shell.execute_reply": "2025-07-02T20:22:44.876999Z",
     "shell.execute_reply.started": "2025-07-02T20:22:39.931171Z"
    }
   },
   "outputs": [
    {
     "data": {
      "application/vnd.jupyter.widget-view+json": {
       "model_id": "43a85aa01ecf4c8e845bd2f228123348",
       "version_major": 2,
       "version_minor": 0
      },
      "text/plain": [
       "Export report to file:   0%|          | 0/1 [00:00<?, ?it/s]"
      ]
     },
     "metadata": {},
     "output_type": "display_data"
    },
    {
     "data": {
      "application/vnd.jupyter.widget-view+json": {
       "model_id": "c1135f34fb194285869df0c89aefa93d",
       "version_major": 2,
       "version_minor": 0
      },
      "text/plain": [
       "Render JSON:   0%|          | 0/1 [00:00<?, ?it/s]"
      ]
     },
     "metadata": {},
     "output_type": "display_data"
    },
    {
     "data": {
      "application/vnd.jupyter.widget-view+json": {
       "model_id": "16374c05035f40e0bd1a785be29701ce",
       "version_major": 2,
       "version_minor": 0
      },
      "text/plain": [
       "Export report to file:   0%|          | 0/1 [00:00<?, ?it/s]"
      ]
     },
     "metadata": {},
     "output_type": "display_data"
    },
    {
     "name": "stderr",
     "output_type": "stream",
     "text": [
      "/tmp/ipykernel_3494/893884539.py:5: DeprecationWarning: datetime.datetime.utcnow() is deprecated and scheduled for removal in a future version. Use timezone-aware objects to represent datetimes in UTC: datetime.datetime.now(datetime.UTC).\n",
      "  date = datetime.datetime.utcnow().strftime(\"%Y-%m-%d\")\n"
     ]
    }
   ],
   "source": [
    "# save the report to s3 athena bucket\n",
    "import datetime\n",
    "profile.to_file(\"/tmp/nutrisage_profile.html\")\n",
    "profile.to_file(\"/tmp/nutrisage_profile.json\")\n",
    "date = datetime.datetime.utcnow().strftime(\"%Y-%m-%d\")\n",
    "wr.s3.upload(\"/tmp/nutrisage_profile.html\", f\"s3://nutrisage-athena-results-352364310453/eda/{date}/nutrisage_profile.html\",\n",
    "            use_threads=True, boto3_session=None)\n",
    "wr.s3.upload(\"/tmp/nutrisage_profile.json\", f\"s3://nutrisage-athena-results-352364310453/eda/{date}/nutrisage_profile.json\",\n",
    "            use_threads=True, boto3_session=None)"
   ]
  },
  {
   "cell_type": "markdown",
   "id": "b1619bb1-207b-4c2f-809f-3ef3e7b7db3c",
   "metadata": {},
   "source": [
    "### 3. Outlier and Nonvalid Removal"
   ]
  },
  {
   "cell_type": "markdown",
   "id": "b53decde-a53c-4b64-ad28-6a9cdbf8a674",
   "metadata": {},
   "source": [
    "The initial EDA analysis showed that there are outliers (values larger than 100) in columns reporting the nutrients in 100g portion. So, the first step is dropping those rows.\n",
    "Also, drop main_category colums which is all null. Drop the null and unknown values from nutrition_grade_fr (target) column. \n",
    "I keep record of dropped row and log any rows I drop so the rule is reproducible."
   ]
  },
  {
   "cell_type": "code",
   "execution_count": 27,
   "id": "676552a0-eb26-460d-8200-419e07a71ca5",
   "metadata": {
    "execution": {
     "iopub.execute_input": "2025-07-02T20:29:17.430717Z",
     "iopub.status.busy": "2025-07-02T20:29:17.430427Z",
     "iopub.status.idle": "2025-07-02T20:29:17.506384Z",
     "shell.execute_reply": "2025-07-02T20:29:17.505200Z",
     "shell.execute_reply.started": "2025-07-02T20:29:17.430694Z"
    }
   },
   "outputs": [],
   "source": [
    "import logging\n",
    "import json\n",
    "\n",
    "cols = [col for col in df_clean.columns  if (col.endswith('_100g') and col not in ['energy_100g', 'energy-kcal_100g'])]\n",
    "outliers = df_clean.copy()\n",
    "\n",
    "for col in cols:\n",
    "    mask = (outliers[col] > 100) & (outliers[col] < 0)\n",
    "    outliers = outliers.loc[mask, :]"
   ]
  },
  {
   "cell_type": "code",
   "execution_count": 28,
   "id": "64deb2ae-3e08-4441-85c5-a6805d0f3970",
   "metadata": {
    "execution": {
     "iopub.execute_input": "2025-07-02T20:48:53.457095Z",
     "iopub.status.busy": "2025-07-02T20:48:53.456143Z",
     "iopub.status.idle": "2025-07-02T20:48:53.840709Z",
     "shell.execute_reply": "2025-07-02T20:48:53.839478Z",
     "shell.execute_reply.started": "2025-07-02T20:48:53.457061Z"
    }
   },
   "outputs": [],
   "source": [
    "# Save the outliers\n",
    "outliers.to_parquet(f\"s3://nutrisage-athena-results-352364310453/eda/logs/outliers_{date}.parquet\")"
   ]
  },
  {
   "cell_type": "code",
   "execution_count": 30,
   "id": "f9493347-ad4e-4620-b199-b183565e4e94",
   "metadata": {
    "execution": {
     "iopub.execute_input": "2025-07-02T20:50:53.608702Z",
     "iopub.status.busy": "2025-07-02T20:50:53.607927Z",
     "iopub.status.idle": "2025-07-02T20:50:53.689835Z",
     "shell.execute_reply": "2025-07-02T20:50:53.686283Z",
     "shell.execute_reply.started": "2025-07-02T20:50:53.608667Z"
    }
   },
   "outputs": [
    {
     "data": {
      "text/html": [
       "<div>\n",
       "<style scoped>\n",
       "    .dataframe tbody tr th:only-of-type {\n",
       "        vertical-align: middle;\n",
       "    }\n",
       "\n",
       "    .dataframe tbody tr th {\n",
       "        vertical-align: top;\n",
       "    }\n",
       "\n",
       "    .dataframe thead th {\n",
       "        text-align: right;\n",
       "    }\n",
       "</style>\n",
       "<table border=\"1\" class=\"dataframe\">\n",
       "  <thead>\n",
       "    <tr style=\"text-align: right;\">\n",
       "      <th></th>\n",
       "      <th>energy_100g</th>\n",
       "      <th>energy-kcal_100g</th>\n",
       "      <th>fat_100g</th>\n",
       "      <th>saturated-fat_100g</th>\n",
       "      <th>carbohydrates_100g</th>\n",
       "      <th>sugars_100g</th>\n",
       "      <th>fiber_100g</th>\n",
       "      <th>proteins_100g</th>\n",
       "      <th>sodium_100g</th>\n",
       "      <th>product_name</th>\n",
       "      <th>main_category</th>\n",
       "      <th>nutrition_grade_fr</th>\n",
       "      <th>year</th>\n",
       "      <th>country</th>\n",
       "    </tr>\n",
       "  </thead>\n",
       "  <tbody>\n",
       "    <tr>\n",
       "      <th>0</th>\n",
       "      <td>NaN</td>\n",
       "      <td>NaN</td>\n",
       "      <td>NaN</td>\n",
       "      <td>NaN</td>\n",
       "      <td>NaN</td>\n",
       "      <td>NaN</td>\n",
       "      <td>NaN</td>\n",
       "      <td>NaN</td>\n",
       "      <td>NaN</td>\n",
       "      <td>CARNATION Ground Cinnamon 34g</td>\n",
       "      <td>None</td>\n",
       "      <td>unknown</td>\n",
       "      <td>2017</td>\n",
       "      <td>cyprus</td>\n",
       "    </tr>\n",
       "    <tr>\n",
       "      <th>1</th>\n",
       "      <td>303.0</td>\n",
       "      <td>73.0</td>\n",
       "      <td>4.2</td>\n",
       "      <td>2.8</td>\n",
       "      <td>5.2</td>\n",
       "      <td>5.2</td>\n",
       "      <td>0.0</td>\n",
       "      <td>3.5</td>\n",
       "      <td>0.04</td>\n",
       "      <td>NOUNOU evaporated milk</td>\n",
       "      <td>None</td>\n",
       "      <td>c</td>\n",
       "      <td>2017</td>\n",
       "      <td>cyprus</td>\n",
       "    </tr>\n",
       "    <tr>\n",
       "      <th>2</th>\n",
       "      <td>188.0</td>\n",
       "      <td>45.0</td>\n",
       "      <td>0.0</td>\n",
       "      <td>0.0</td>\n",
       "      <td>21.6</td>\n",
       "      <td>21.6</td>\n",
       "      <td>NaN</td>\n",
       "      <td>0.2</td>\n",
       "      <td>0.00</td>\n",
       "      <td>Wow! Fruit Juice</td>\n",
       "      <td>None</td>\n",
       "      <td>unknown</td>\n",
       "      <td>2017</td>\n",
       "      <td>chad</td>\n",
       "    </tr>\n",
       "    <tr>\n",
       "      <th>3</th>\n",
       "      <td>NaN</td>\n",
       "      <td>NaN</td>\n",
       "      <td>NaN</td>\n",
       "      <td>NaN</td>\n",
       "      <td>NaN</td>\n",
       "      <td>NaN</td>\n",
       "      <td>NaN</td>\n",
       "      <td>NaN</td>\n",
       "      <td>NaN</td>\n",
       "      <td>Cheerios</td>\n",
       "      <td>None</td>\n",
       "      <td>unknown</td>\n",
       "      <td>2017</td>\n",
       "      <td>guatemala</td>\n",
       "    </tr>\n",
       "    <tr>\n",
       "      <th>4</th>\n",
       "      <td>179.0</td>\n",
       "      <td>42.0</td>\n",
       "      <td>0.2</td>\n",
       "      <td>0.1</td>\n",
       "      <td>8.5</td>\n",
       "      <td>4.5</td>\n",
       "      <td>NaN</td>\n",
       "      <td>1.0</td>\n",
       "      <td>1.00</td>\n",
       "      <td>Sauce fajitas</td>\n",
       "      <td>None</td>\n",
       "      <td>d</td>\n",
       "      <td>2017</td>\n",
       "      <td>belgie</td>\n",
       "    </tr>\n",
       "  </tbody>\n",
       "</table>\n",
       "</div>"
      ],
      "text/plain": [
       "   energy_100g  energy-kcal_100g  fat_100g  saturated-fat_100g  \\\n",
       "0          NaN               NaN       NaN                 NaN   \n",
       "1        303.0              73.0       4.2                 2.8   \n",
       "2        188.0              45.0       0.0                 0.0   \n",
       "3          NaN               NaN       NaN                 NaN   \n",
       "4        179.0              42.0       0.2                 0.1   \n",
       "\n",
       "   carbohydrates_100g  sugars_100g  fiber_100g  proteins_100g  sodium_100g  \\\n",
       "0                 NaN          NaN         NaN            NaN          NaN   \n",
       "1                 5.2          5.2         0.0            3.5         0.04   \n",
       "2                21.6         21.6         NaN            0.2         0.00   \n",
       "3                 NaN          NaN         NaN            NaN          NaN   \n",
       "4                 8.5          4.5         NaN            1.0         1.00   \n",
       "\n",
       "                    product_name main_category nutrition_grade_fr  year  \\\n",
       "0  CARNATION Ground Cinnamon 34g          None            unknown  2017   \n",
       "1         NOUNOU evaporated milk          None                  c  2017   \n",
       "2               Wow! Fruit Juice          None            unknown  2017   \n",
       "3                       Cheerios          None            unknown  2017   \n",
       "4                  Sauce fajitas          None                  d  2017   \n",
       "\n",
       "     country  \n",
       "0     cyprus  \n",
       "1     cyprus  \n",
       "2       chad  \n",
       "3  guatemala  \n",
       "4     belgie  "
      ]
     },
     "execution_count": 30,
     "metadata": {},
     "output_type": "execute_result"
    }
   ],
   "source": [
    "df_proc = df_clean.copy()\n",
    "\n",
    "for col in cols:\n",
    "    mask = (outliers[col] <= 100) & (outliers[col] >= 0)\n",
    "    outliers = outliers.loc[mask, :]\n",
    "    \n",
    "df_proc.head()"
   ]
  },
  {
   "cell_type": "code",
   "execution_count": 31,
   "id": "c23329a4-4f9a-4ef3-a7f0-1fd3288631ec",
   "metadata": {
    "execution": {
     "iopub.execute_input": "2025-07-02T20:51:09.481746Z",
     "iopub.status.busy": "2025-07-02T20:51:09.481444Z",
     "iopub.status.idle": "2025-07-02T20:51:09.604773Z",
     "shell.execute_reply": "2025-07-02T20:51:09.603886Z",
     "shell.execute_reply.started": "2025-07-02T20:51:09.481725Z"
    }
   },
   "outputs": [
    {
     "data": {
      "text/html": [
       "<div>\n",
       "<style scoped>\n",
       "    .dataframe tbody tr th:only-of-type {\n",
       "        vertical-align: middle;\n",
       "    }\n",
       "\n",
       "    .dataframe tbody tr th {\n",
       "        vertical-align: top;\n",
       "    }\n",
       "\n",
       "    .dataframe thead th {\n",
       "        text-align: right;\n",
       "    }\n",
       "</style>\n",
       "<table border=\"1\" class=\"dataframe\">\n",
       "  <thead>\n",
       "    <tr style=\"text-align: right;\">\n",
       "      <th></th>\n",
       "      <th>energy_100g</th>\n",
       "      <th>energy-kcal_100g</th>\n",
       "      <th>fat_100g</th>\n",
       "      <th>saturated-fat_100g</th>\n",
       "      <th>carbohydrates_100g</th>\n",
       "      <th>sugars_100g</th>\n",
       "      <th>fiber_100g</th>\n",
       "      <th>proteins_100g</th>\n",
       "      <th>sodium_100g</th>\n",
       "      <th>product_name</th>\n",
       "      <th>nutrition_grade_fr</th>\n",
       "      <th>year</th>\n",
       "      <th>country</th>\n",
       "    </tr>\n",
       "  </thead>\n",
       "  <tbody>\n",
       "    <tr>\n",
       "      <th>1</th>\n",
       "      <td>303.0</td>\n",
       "      <td>73.0</td>\n",
       "      <td>4.2</td>\n",
       "      <td>2.8</td>\n",
       "      <td>5.20</td>\n",
       "      <td>5.20</td>\n",
       "      <td>0.0</td>\n",
       "      <td>3.50</td>\n",
       "      <td>0.040</td>\n",
       "      <td>NOUNOU evaporated milk</td>\n",
       "      <td>c</td>\n",
       "      <td>2017</td>\n",
       "      <td>cyprus</td>\n",
       "    </tr>\n",
       "    <tr>\n",
       "      <th>4</th>\n",
       "      <td>179.0</td>\n",
       "      <td>42.0</td>\n",
       "      <td>0.2</td>\n",
       "      <td>0.1</td>\n",
       "      <td>8.50</td>\n",
       "      <td>4.50</td>\n",
       "      <td>NaN</td>\n",
       "      <td>1.00</td>\n",
       "      <td>1.000</td>\n",
       "      <td>Sauce fajitas</td>\n",
       "      <td>d</td>\n",
       "      <td>2017</td>\n",
       "      <td>belgie</td>\n",
       "    </tr>\n",
       "    <tr>\n",
       "      <th>8</th>\n",
       "      <td>38.0</td>\n",
       "      <td>9.0</td>\n",
       "      <td>0.0</td>\n",
       "      <td>0.0</td>\n",
       "      <td>2.00</td>\n",
       "      <td>2.00</td>\n",
       "      <td>NaN</td>\n",
       "      <td>0.00</td>\n",
       "      <td>0.000</td>\n",
       "      <td>Soda</td>\n",
       "      <td>b</td>\n",
       "      <td>2017</td>\n",
       "      <td>guadeloupe</td>\n",
       "    </tr>\n",
       "    <tr>\n",
       "      <th>9</th>\n",
       "      <td>1113.0</td>\n",
       "      <td>266.0</td>\n",
       "      <td>0.0</td>\n",
       "      <td>0.0</td>\n",
       "      <td>64.99</td>\n",
       "      <td>47.88</td>\n",
       "      <td>NaN</td>\n",
       "      <td>0.98</td>\n",
       "      <td>0.220</td>\n",
       "      <td>Confiture extra cerise pays</td>\n",
       "      <td>d</td>\n",
       "      <td>2017</td>\n",
       "      <td>guadeloupe</td>\n",
       "    </tr>\n",
       "    <tr>\n",
       "      <th>10</th>\n",
       "      <td>1295.0</td>\n",
       "      <td>306.0</td>\n",
       "      <td>0.5</td>\n",
       "      <td>0.1</td>\n",
       "      <td>70.00</td>\n",
       "      <td>66.00</td>\n",
       "      <td>5.0</td>\n",
       "      <td>2.30</td>\n",
       "      <td>0.012</td>\n",
       "      <td>ALDI Grafschafter Sirup Rübenkraut 450g</td>\n",
       "      <td>d</td>\n",
       "      <td>2017</td>\n",
       "      <td>austria</td>\n",
       "    </tr>\n",
       "  </tbody>\n",
       "</table>\n",
       "</div>"
      ],
      "text/plain": [
       "    energy_100g  energy-kcal_100g  fat_100g  saturated-fat_100g  \\\n",
       "1         303.0              73.0       4.2                 2.8   \n",
       "4         179.0              42.0       0.2                 0.1   \n",
       "8          38.0               9.0       0.0                 0.0   \n",
       "9        1113.0             266.0       0.0                 0.0   \n",
       "10       1295.0             306.0       0.5                 0.1   \n",
       "\n",
       "    carbohydrates_100g  sugars_100g  fiber_100g  proteins_100g  sodium_100g  \\\n",
       "1                 5.20         5.20         0.0           3.50        0.040   \n",
       "4                 8.50         4.50         NaN           1.00        1.000   \n",
       "8                 2.00         2.00         NaN           0.00        0.000   \n",
       "9                64.99        47.88         NaN           0.98        0.220   \n",
       "10               70.00        66.00         5.0           2.30        0.012   \n",
       "\n",
       "                               product_name nutrition_grade_fr  year  \\\n",
       "1                    NOUNOU evaporated milk                  c  2017   \n",
       "4                             Sauce fajitas                  d  2017   \n",
       "8                                      Soda                  b  2017   \n",
       "9               Confiture extra cerise pays                  d  2017   \n",
       "10  ALDI Grafschafter Sirup Rübenkraut 450g                  d  2017   \n",
       "\n",
       "       country  \n",
       "1       cyprus  \n",
       "4       belgie  \n",
       "8   guadeloupe  \n",
       "9   guadeloupe  \n",
       "10     austria  "
      ]
     },
     "execution_count": 31,
     "metadata": {},
     "output_type": "execute_result"
    }
   ],
   "source": [
    "df_proc = df_proc.loc[df_proc['nutrition_grade_fr'].isin(['a', 'b', 'c', 'd', 'e']), :]\n",
    "df_proc.drop(columns=['main_category'], inplace=True)\n",
    "df_proc.reset_index()\n",
    "df_proc.head()"
   ]
  },
  {
   "cell_type": "code",
   "execution_count": 33,
   "id": "7c63b3ee-9c57-4bc1-b590-9d0ea0efe2fb",
   "metadata": {
    "execution": {
     "iopub.execute_input": "2025-07-02T20:53:53.788356Z",
     "iopub.status.busy": "2025-07-02T20:53:53.787942Z",
     "iopub.status.idle": "2025-07-02T20:54:04.071789Z",
     "shell.execute_reply": "2025-07-02T20:54:04.070886Z",
     "shell.execute_reply.started": "2025-07-02T20:53:53.788329Z"
    }
   },
   "outputs": [
    {
     "data": {
      "application/vnd.jupyter.widget-view+json": {
       "model_id": "47a2375e9f5c4c5dbb847e7e82450999",
       "version_major": 2,
       "version_minor": 0
      },
      "text/plain": [
       "Summarize dataset:   0%|          | 0/5 [00:00<?, ?it/s]"
      ]
     },
     "metadata": {},
     "output_type": "display_data"
    },
    {
     "name": "stderr",
     "output_type": "stream",
     "text": [
      "\n",
      "  0%|          | 0/13 [00:00<?, ?it/s]\u001b[A\n",
      " 38%|███▊      | 5/13 [00:00<00:00, 37.10it/s]\u001b[A\n",
      " 69%|██████▉   | 9/13 [00:00<00:00, 17.06it/s]\u001b[A\n",
      "100%|██████████| 13/13 [00:02<00:00,  6.07it/s]\u001b[A\n"
     ]
    },
    {
     "data": {
      "application/vnd.jupyter.widget-view+json": {
       "model_id": "a9cf4b0d7c9349679144fa3464636472",
       "version_major": 2,
       "version_minor": 0
      },
      "text/plain": [
       "Generate report structure:   0%|          | 0/1 [00:00<?, ?it/s]"
      ]
     },
     "metadata": {},
     "output_type": "display_data"
    },
    {
     "data": {
      "application/vnd.jupyter.widget-view+json": {
       "model_id": "736a2eb9b0764b7eb05e22f59da288f1",
       "version_major": 2,
       "version_minor": 0
      },
      "text/plain": [
       "Render HTML:   0%|          | 0/1 [00:00<?, ?it/s]"
      ]
     },
     "metadata": {},
     "output_type": "display_data"
    },
    {
     "data": {
      "application/vnd.jupyter.widget-view+json": {
       "model_id": "e28ac0fa259440acbf8880abd4736b05",
       "version_major": 2,
       "version_minor": 0
      },
      "text/plain": [
       "Export report to file:   0%|          | 0/1 [00:00<?, ?it/s]"
      ]
     },
     "metadata": {},
     "output_type": "display_data"
    },
    {
     "data": {
      "application/vnd.jupyter.widget-view+json": {
       "model_id": "b949cee2ae5b488aa3dc70efe5d0b091",
       "version_major": 2,
       "version_minor": 0
      },
      "text/plain": [
       "Render JSON:   0%|          | 0/1 [00:00<?, ?it/s]"
      ]
     },
     "metadata": {},
     "output_type": "display_data"
    },
    {
     "data": {
      "application/vnd.jupyter.widget-view+json": {
       "model_id": "f0e8b6e7be604736bf40f7c10545c0f8",
       "version_major": 2,
       "version_minor": 0
      },
      "text/plain": [
       "Export report to file:   0%|          | 0/1 [00:00<?, ?it/s]"
      ]
     },
     "metadata": {},
     "output_type": "display_data"
    }
   ],
   "source": [
    "profile = ProfileReport(\n",
    "    df_proc,\n",
    "    minimal=True,\n",
    "    title=\"Nutrisage EDA (clean-Outlier removal)\",\n",
    "    explorative=True\n",
    ")\n",
    "\n",
    "profile.to_file(\"/tmp/nutrisage_profile_oulier_removal.html\")\n",
    "wr.s3.upload(\"/tmp/nutrisage_profile_oulier_removal.html\", f\"s3://nutrisage-athena-results-352364310453/eda/{date}/nutrisage_profile_oulier_removal.html\",\n",
    "            use_threads=True, boto3_session=None)\n",
    "\n",
    "profile.to_file(\"/tmp/nutrisage_profile_oulier_removal.json\")\n",
    "wr.s3.upload(\"/tmp/nutrisage_profile_oulier_removal.json\", f\"s3://nutrisage-athena-results-352364310453/eda/{date}/nutrisage_profile_oulier_removal.json\",\n",
    "            use_threads=True, boto3_session=None)"
   ]
  },
  {
   "cell_type": "code",
   "execution_count": 34,
   "id": "b0940214-8f35-4e3a-8991-fae5070907a7",
   "metadata": {
    "execution": {
     "iopub.execute_input": "2025-07-02T20:55:05.369885Z",
     "iopub.status.busy": "2025-07-02T20:55:05.369500Z",
     "iopub.status.idle": "2025-07-02T20:55:05.375863Z",
     "shell.execute_reply": "2025-07-02T20:55:05.375057Z",
     "shell.execute_reply.started": "2025-07-02T20:55:05.369858Z"
    }
   },
   "outputs": [
    {
     "data": {
      "text/plain": [
       "(118473, 13)"
      ]
     },
     "execution_count": 34,
     "metadata": {},
     "output_type": "execute_result"
    }
   ],
   "source": [
    "df_proc.shape"
   ]
  },
  {
   "cell_type": "code",
   "execution_count": 35,
   "id": "684ead3f-1588-4a5f-9642-3c63671b3133",
   "metadata": {
    "execution": {
     "iopub.execute_input": "2025-07-02T20:55:14.998163Z",
     "iopub.status.busy": "2025-07-02T20:55:14.997693Z",
     "iopub.status.idle": "2025-07-02T20:55:15.013680Z",
     "shell.execute_reply": "2025-07-02T20:55:15.012699Z",
     "shell.execute_reply.started": "2025-07-02T20:55:14.998136Z"
    }
   },
   "outputs": [
    {
     "data": {
      "text/plain": [
       "nutrition_grade_fr\n",
       "e    33926\n",
       "d    30186\n",
       "c    24164\n",
       "a    16435\n",
       "b    13762\n",
       "Name: count, dtype: int64"
      ]
     },
     "execution_count": 35,
     "metadata": {},
     "output_type": "execute_result"
    }
   ],
   "source": [
    "df_proc['nutrition_grade_fr'].value_counts()"
   ]
  },
  {
   "cell_type": "markdown",
   "id": "0cab2e8b-cb25-4e09-9439-263ddb4c49ae",
   "metadata": {},
   "source": [
    "### 4. Correlation analysis"
   ]
  },
  {
   "cell_type": "markdown",
   "id": "fc7e491d-251e-4124-8733-e9ee95f3e069",
   "metadata": {},
   "source": [
    "First, I drop fiber_100g since it has more than 45% missing values. Also, I drop energy_100g and keep energy-kcal_100g."
   ]
  },
  {
   "cell_type": "code",
   "execution_count": 36,
   "id": "e8c3bc9b-0210-4d06-a170-bb5a2af1201e",
   "metadata": {
    "execution": {
     "iopub.execute_input": "2025-07-02T20:56:23.106825Z",
     "iopub.status.busy": "2025-07-02T20:56:23.106448Z",
     "iopub.status.idle": "2025-07-02T20:56:23.125327Z",
     "shell.execute_reply": "2025-07-02T20:56:23.124497Z",
     "shell.execute_reply.started": "2025-07-02T20:56:23.106800Z"
    }
   },
   "outputs": [],
   "source": [
    "df_proc.drop(columns=['fiber_100g', 'energy_100g'], inplace=True)"
   ]
  },
  {
   "cell_type": "markdown",
   "id": "5d04843e-b93a-47c3-ab0f-456c4a0b2c6a",
   "metadata": {},
   "source": [
    "First, I would like to do a correlation analysis on missing values. The goal is to check if the missing values are systematic or not."
   ]
  },
  {
   "cell_type": "code",
   "execution_count": 42,
   "id": "63bfc72f-641f-45df-a692-90aa6ab264e6",
   "metadata": {
    "execution": {
     "iopub.execute_input": "2025-07-02T20:57:48.842522Z",
     "iopub.status.busy": "2025-07-02T20:57:48.842056Z",
     "iopub.status.idle": "2025-07-02T20:57:49.212035Z",
     "shell.execute_reply": "2025-07-02T20:57:49.210965Z",
     "shell.execute_reply.started": "2025-07-02T20:57:48.842482Z"
    }
   },
   "outputs": [
    {
     "data": {
      "text/plain": [
       "<Axes: >"
      ]
     },
     "execution_count": 42,
     "metadata": {},
     "output_type": "execute_result"
    },
    {
     "data": {
      "image/png": "[encoded data removed]",
      "text/plain": [
       "<Figure size 640x480 with 2 Axes>"
      ]
     },
     "metadata": {},
     "output_type": "display_data"
    }
   ],
   "source": [
    "import seaborn as sns\n",
    "import matplotlib.pyplot as plt\n",
    "\n",
    "%matplotlib inline\n",
    "miss = df_proc.isna().astype(int)\n",
    "miss_corr = miss.iloc[:, :7].corr()\n",
    "sns.heatmap(miss_corr)\n"
   ]
  },
  {
   "cell_type": "code",
   "execution_count": 43,
   "id": "56f14259-521c-46db-b8c7-e0d8f5d835fb",
   "metadata": {
    "execution": {
     "iopub.execute_input": "2025-07-02T20:57:57.853323Z",
     "iopub.status.busy": "2025-07-02T20:57:57.852994Z",
     "iopub.status.idle": "2025-07-02T20:57:58.117122Z",
     "shell.execute_reply": "2025-07-02T20:57:58.115768Z",
     "shell.execute_reply.started": "2025-07-02T20:57:57.853300Z"
    }
   },
   "outputs": [
    {
     "data": {
      "text/plain": [
       "<Axes: >"
      ]
     },
     "execution_count": 43,
     "metadata": {},
     "output_type": "execute_result"
    },
    {
     "data": {
      "image/png": "[encoded data removed]",
      "text/plain": [
       "<Figure size 640x480 with 2 Axes>"
      ]
     },
     "metadata": {},
     "output_type": "display_data"
    }
   ],
   "source": [
    "corr = df_proc.iloc[:,:7].corr()\n",
    "sns.heatmap(corr)"
   ]
  },
  {
   "cell_type": "code",
   "execution_count": 44,
   "id": "652c65f8-03cf-4980-9dc2-a8942d98b89c",
   "metadata": {
    "execution": {
     "iopub.execute_input": "2025-07-02T21:00:36.868378Z",
     "iopub.status.busy": "2025-07-02T21:00:36.867400Z",
     "iopub.status.idle": "2025-07-02T21:00:37.466881Z",
     "shell.execute_reply": "2025-07-02T21:00:37.465628Z",
     "shell.execute_reply.started": "2025-07-02T21:00:36.868336Z"
    }
   },
   "outputs": [],
   "source": [
    "#save the data to s3 bucket\n",
    "df_proc.to_parquet(f\"s3://nutrisage-processed-352364310453/clean_sample/{date}/clean_processed.parquet\")"
   ]
  }
 ],
 "metadata": {
  "kernelspec": {
   "display_name": "Python 3 (ipykernel)",
   "language": "python",
   "name": "python3"
  },
  "language_info": {
   "codemirror_mode": {
    "name": "ipython",
    "version": 3
   },
   "file_extension": ".py",
   "mimetype": "text/x-python",
   "name": "python",
   "nbconvert_exporter": "python",
   "pygments_lexer": "ipython3",
   "version": "3.12.9"
  }
 },
 "nbformat": 4,
 "nbformat_minor": 5
}

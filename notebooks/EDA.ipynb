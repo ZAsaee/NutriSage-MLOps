{
 "cells": [
  {
   "cell_type": "markdown",
   "id": "a9bc90fb-d372-499c-997e-f81050f3cd66",
   "metadata": {},
   "source": [
    "# Data Wrangling and EDA"
   ]
  },
  {
   "cell_type": "code",
   "execution_count": 1,
   "id": "3c654bb6-eef4-4bef-bcbd-85efb77af084",
   "metadata": {
    "execution": {
     "iopub.execute_input": "2025-07-04T18:53:30.302604Z",
     "iopub.status.busy": "2025-07-04T18:53:30.302130Z",
     "iopub.status.idle": "2025-07-04T18:53:32.403635Z",
     "shell.execute_reply": "2025-07-04T18:53:32.402637Z",
     "shell.execute_reply.started": "2025-07-04T18:53:30.302570Z"
    }
   },
   "outputs": [
    {
     "name": "stdout",
     "output_type": "stream",
     "text": [
      "/home/sagemaker-user/.conda/envs/nutrisage-eda/bin/python\n",
      "nutrisage-eda\n",
      "\n"
     ]
    }
   ],
   "source": [
    "!conda run -n nutrisage-eda python -c \"import sys, os; print(sys.executable); print(os.environ['CONDA_DEFAULT_ENV'])\""
   ]
  },
  {
   "cell_type": "code",
   "execution_count": 2,
   "id": "bcf8cc8b-863d-42b0-96b3-ab2c03dac44d",
   "metadata": {
    "execution": {
     "iopub.execute_input": "2025-07-04T18:53:32.405620Z",
     "iopub.status.busy": "2025-07-04T18:53:32.404733Z",
     "iopub.status.idle": "2025-07-04T18:53:32.408985Z",
     "shell.execute_reply": "2025-07-04T18:53:32.408042Z",
     "shell.execute_reply.started": "2025-07-04T18:53:32.405584Z"
    }
   },
   "outputs": [],
   "source": [
    "from IPython.display import display"
   ]
  },
  {
   "cell_type": "markdown",
   "id": "c56acbfe-5036-4c3e-ae48-425a83357118",
   "metadata": {},
   "source": [
    "### 1. Quick Smoke Test"
   ]
  },
  {
   "cell_type": "code",
   "execution_count": 3,
   "id": "0c6d6e16-ab66-42d1-9140-2680bd7dcde8",
   "metadata": {
    "execution": {
     "iopub.execute_input": "2025-07-04T18:53:32.413838Z",
     "iopub.status.busy": "2025-07-04T18:53:32.413528Z",
     "iopub.status.idle": "2025-07-04T18:53:32.639377Z",
     "shell.execute_reply": "2025-07-04T18:53:32.638620Z",
     "shell.execute_reply.started": "2025-07-04T18:53:32.413808Z"
    }
   },
   "outputs": [],
   "source": [
    "from pyathena import connect\n",
    "\n",
    "conn = connect(s3_staging_dir = \"s3://nutrisage-athena-results-352364310453/athena-tmp/\",\n",
    "                region_name = \"us-east-1\")"
   ]
  },
  {
   "cell_type": "code",
   "execution_count": 4,
   "id": "75caa8c6-e73a-4d15-acb9-cf790803b22c",
   "metadata": {
    "execution": {
     "iopub.execute_input": "2025-07-04T18:53:32.641205Z",
     "iopub.status.busy": "2025-07-04T18:53:32.640400Z",
     "iopub.status.idle": "2025-07-04T18:53:38.628235Z",
     "shell.execute_reply": "2025-07-04T18:53:38.627128Z",
     "shell.execute_reply.started": "2025-07-04T18:53:32.641172Z"
    }
   },
   "outputs": [
    {
     "name": "stderr",
     "output_type": "stream",
     "text": [
      "/tmp/ipykernel_29731/3366759223.py:3: UserWarning: pandas only supports SQLAlchemy connectable (engine/connection) or database string URI or sqlite3 DBAPI2 connection. Other DBAPI2 objects are not tested. Please consider using SQLAlchemy.\n",
      "  df = pd.read_sql(\"SELECT count(*) AS rows FROM nutrisage_datalake.foodfacts_clean_processed\", conn)\n"
     ]
    },
    {
     "data": {
      "text/html": [
       "<div>\n",
       "<style scoped>\n",
       "    .dataframe tbody tr th:only-of-type {\n",
       "        vertical-align: middle;\n",
       "    }\n",
       "\n",
       "    .dataframe tbody tr th {\n",
       "        vertical-align: top;\n",
       "    }\n",
       "\n",
       "    .dataframe thead th {\n",
       "        text-align: right;\n",
       "    }\n",
       "</style>\n",
       "<table border=\"1\" class=\"dataframe\">\n",
       "  <thead>\n",
       "    <tr style=\"text-align: right;\">\n",
       "      <th></th>\n",
       "      <th>rows</th>\n",
       "    </tr>\n",
       "  </thead>\n",
       "  <tbody>\n",
       "    <tr>\n",
       "      <th>0</th>\n",
       "      <td>3796056</td>\n",
       "    </tr>\n",
       "  </tbody>\n",
       "</table>\n",
       "</div>"
      ],
      "text/plain": [
       "      rows\n",
       "0  3796056"
      ]
     },
     "metadata": {},
     "output_type": "display_data"
    }
   ],
   "source": [
    "import pandas as pd\n",
    "\n",
    "df = pd.read_sql(\"SELECT count(*) AS rows FROM nutrisage_datalake.foodfacts_clean_processed\", conn)\n",
    "display(df)"
   ]
  },
  {
   "cell_type": "markdown",
   "id": "013b74af-0281-4d14-90d2-8812f9d21bd1",
   "metadata": {
    "execution": {
     "iopub.execute_input": "2025-07-01T14:16:01.990316Z",
     "iopub.status.busy": "2025-07-01T14:16:01.987344Z",
     "iopub.status.idle": "2025-07-01T14:16:02.009368Z",
     "shell.execute_reply": "2025-07-01T14:16:02.008320Z",
     "shell.execute_reply.started": "2025-07-01T14:16:01.990267Z"
    }
   },
   "source": [
    "### 2. Automated Data Profiling"
   ]
  },
  {
   "cell_type": "code",
   "execution_count": 6,
   "id": "e3beeff2-2164-4373-afce-b82714060e27",
   "metadata": {
    "execution": {
     "iopub.execute_input": "2025-07-04T18:54:00.518734Z",
     "iopub.status.busy": "2025-07-04T18:54:00.518341Z",
     "iopub.status.idle": "2025-07-04T18:54:34.867746Z",
     "shell.execute_reply": "2025-07-04T18:54:34.866910Z",
     "shell.execute_reply.started": "2025-07-04T18:54:00.518707Z"
    }
   },
   "outputs": [
    {
     "name": "stderr",
     "output_type": "stream",
     "text": [
      "/tmp/ipykernel_29731/1374802186.py:1: UserWarning: pandas only supports SQLAlchemy connectable (engine/connection) or database string URI or sqlite3 DBAPI2 connection. Other DBAPI2 objects are not tested. Please consider using SQLAlchemy.\n",
      "  sample_df = pd.read_sql(\"\"\"\n"
     ]
    }
   ],
   "source": [
    "sample_df = pd.read_sql(\"\"\"\n",
    "    SELECT *\n",
    "    FROM nutrisage_datalake.foodfacts_clean_processed\n",
    "    TABLESAMPLE BERNOULLI (5)\n",
    "    LIMIT 100000\n",
    "    \"\"\", conn)"
   ]
  },
  {
   "cell_type": "code",
   "execution_count": 7,
   "id": "3001e75c-d0fb-47ca-ad65-fccbfa14703e",
   "metadata": {
    "execution": {
     "iopub.execute_input": "2025-07-04T19:02:30.142375Z",
     "iopub.status.busy": "2025-07-04T19:02:30.141771Z",
     "iopub.status.idle": "2025-07-04T19:02:30.147342Z",
     "shell.execute_reply": "2025-07-04T19:02:30.146592Z",
     "shell.execute_reply.started": "2025-07-04T19:02:30.142344Z"
    }
   },
   "outputs": [
    {
     "data": {
      "text/plain": [
       "(100000, 19)"
      ]
     },
     "metadata": {},
     "output_type": "display_data"
    }
   ],
   "source": [
    "display(sample_df.shape)"
   ]
  },
  {
   "cell_type": "code",
   "execution_count": 8,
   "id": "899df4b8-a019-4744-85f8-33836309007f",
   "metadata": {
    "execution": {
     "iopub.execute_input": "2025-07-04T19:02:31.142586Z",
     "iopub.status.busy": "2025-07-04T19:02:31.142204Z",
     "iopub.status.idle": "2025-07-04T19:02:31.163857Z",
     "shell.execute_reply": "2025-07-04T19:02:31.163098Z",
     "shell.execute_reply.started": "2025-07-04T19:02:31.142563Z"
    }
   },
   "outputs": [
    {
     "data": {
      "text/html": [
       "<div>\n",
       "<style scoped>\n",
       "    .dataframe tbody tr th:only-of-type {\n",
       "        vertical-align: middle;\n",
       "    }\n",
       "\n",
       "    .dataframe tbody tr th {\n",
       "        vertical-align: top;\n",
       "    }\n",
       "\n",
       "    .dataframe thead th {\n",
       "        text-align: right;\n",
       "    }\n",
       "</style>\n",
       "<table border=\"1\" class=\"dataframe\">\n",
       "  <thead>\n",
       "    <tr style=\"text-align: right;\">\n",
       "      <th></th>\n",
       "      <th>energy_100g</th>\n",
       "      <th>energy-kcal_100g</th>\n",
       "      <th>fat_100g</th>\n",
       "      <th>saturated-fat_100g</th>\n",
       "      <th>carbohydrates_100g</th>\n",
       "      <th>sugars_100g</th>\n",
       "      <th>fiber_100g</th>\n",
       "      <th>proteins_100g</th>\n",
       "      <th>sodium_100g</th>\n",
       "      <th>product_name</th>\n",
       "      <th>main_category</th>\n",
       "      <th>categories_tags</th>\n",
       "      <th>brands_tags</th>\n",
       "      <th>countries_tags</th>\n",
       "      <th>serving_size</th>\n",
       "      <th>created_t</th>\n",
       "      <th>nutrition_grade_fr</th>\n",
       "      <th>year</th>\n",
       "      <th>country</th>\n",
       "    </tr>\n",
       "  </thead>\n",
       "  <tbody>\n",
       "    <tr>\n",
       "      <th>0</th>\n",
       "      <td>1839.0</td>\n",
       "      <td>439.0</td>\n",
       "      <td>18.0</td>\n",
       "      <td>1.5</td>\n",
       "      <td>68.0</td>\n",
       "      <td>0.5</td>\n",
       "      <td>4.0</td>\n",
       "      <td>6.0</td>\n",
       "      <td>0.160</td>\n",
       "      <td>Doradas al horno sin azúcares</td>\n",
       "      <td>None</td>\n",
       "      <td>[en:snacks, en:sweet-snacks, en:biscuits-and-c...</td>\n",
       "      <td>[xx:gullon]</td>\n",
       "      <td>[en:portugal, en:spain]</td>\n",
       "      <td>6,6 g</td>\n",
       "      <td>1504770638</td>\n",
       "      <td>b</td>\n",
       "      <td>2017</td>\n",
       "      <td>portugal</td>\n",
       "    </tr>\n",
       "    <tr>\n",
       "      <th>1</th>\n",
       "      <td>NaN</td>\n",
       "      <td>NaN</td>\n",
       "      <td>NaN</td>\n",
       "      <td>NaN</td>\n",
       "      <td>NaN</td>\n",
       "      <td>NaN</td>\n",
       "      <td>NaN</td>\n",
       "      <td>NaN</td>\n",
       "      <td>NaN</td>\n",
       "      <td>Té Clásico</td>\n",
       "      <td>None</td>\n",
       "      <td>[en:plant-based-foods-and-beverages, en:bevera...</td>\n",
       "      <td>[xx:kris, xx:venado]</td>\n",
       "      <td>[en:bolivia, en:france]</td>\n",
       "      <td>1 bolsita 1.7 g</td>\n",
       "      <td>1537026241</td>\n",
       "      <td>b</td>\n",
       "      <td>2018</td>\n",
       "      <td>bolivia</td>\n",
       "    </tr>\n",
       "    <tr>\n",
       "      <th>2</th>\n",
       "      <td>1389.0</td>\n",
       "      <td>337.0</td>\n",
       "      <td>35.0</td>\n",
       "      <td>22.2</td>\n",
       "      <td>3.3</td>\n",
       "      <td>3.3</td>\n",
       "      <td>0.0</td>\n",
       "      <td>2.2</td>\n",
       "      <td>0.036</td>\n",
       "      <td>La Crème Entière Liquide 35% MG</td>\n",
       "      <td>None</td>\n",
       "      <td>[en:dairies, en:creams, en:uht-creams, en:unfe...</td>\n",
       "      <td>[xx:elle-vire, xx:elle-vire-international]</td>\n",
       "      <td>[en:belgium, en:bulgaria, en:cote-d-ivoire, en...</td>\n",
       "      <td>30 g</td>\n",
       "      <td>1500018500</td>\n",
       "      <td>d</td>\n",
       "      <td>2017</td>\n",
       "      <td>belgium</td>\n",
       "    </tr>\n",
       "    <tr>\n",
       "      <th>3</th>\n",
       "      <td>193.0</td>\n",
       "      <td>46.0</td>\n",
       "      <td>1.5</td>\n",
       "      <td>1.0</td>\n",
       "      <td>4.8</td>\n",
       "      <td>4.8</td>\n",
       "      <td>0.0</td>\n",
       "      <td>3.2</td>\n",
       "      <td>0.052</td>\n",
       "      <td>Lait demi-écrémé stérilisé UHT - Longue conser...</td>\n",
       "      <td>None</td>\n",
       "      <td>[en:dairies, en:creams, en:milks-liquid-and-po...</td>\n",
       "      <td>[xx:elle-vire, xx:elle-vire-international]</td>\n",
       "      <td>[en:belgium, en:cote-d-ivoire, en:france, en:g...</td>\n",
       "      <td>200 ml</td>\n",
       "      <td>1484286724</td>\n",
       "      <td>c</td>\n",
       "      <td>2017</td>\n",
       "      <td>belgium</td>\n",
       "    </tr>\n",
       "    <tr>\n",
       "      <th>4</th>\n",
       "      <td>1816.0</td>\n",
       "      <td>434.0</td>\n",
       "      <td>20.0</td>\n",
       "      <td>14.0</td>\n",
       "      <td>57.0</td>\n",
       "      <td>29.0</td>\n",
       "      <td>1.1</td>\n",
       "      <td>5.9</td>\n",
       "      <td>0.312</td>\n",
       "      <td>Etoiles marbrées au chocolat</td>\n",
       "      <td>None</td>\n",
       "      <td>[en:snacks, en:sweet-snacks, en:biscuits-and-c...</td>\n",
       "      <td>[xx:carrefour]</td>\n",
       "      <td>[en:belgium, en:france]</td>\n",
       "      <td>None</td>\n",
       "      <td>1511817805</td>\n",
       "      <td>e</td>\n",
       "      <td>2017</td>\n",
       "      <td>belgium</td>\n",
       "    </tr>\n",
       "  </tbody>\n",
       "</table>\n",
       "</div>"
      ],
      "text/plain": [
       "   energy_100g  energy-kcal_100g  fat_100g  saturated-fat_100g  \\\n",
       "0       1839.0             439.0      18.0                 1.5   \n",
       "1          NaN               NaN       NaN                 NaN   \n",
       "2       1389.0             337.0      35.0                22.2   \n",
       "3        193.0              46.0       1.5                 1.0   \n",
       "4       1816.0             434.0      20.0                14.0   \n",
       "\n",
       "   carbohydrates_100g  sugars_100g  fiber_100g  proteins_100g  sodium_100g  \\\n",
       "0                68.0          0.5         4.0            6.0        0.160   \n",
       "1                 NaN          NaN         NaN            NaN          NaN   \n",
       "2                 3.3          3.3         0.0            2.2        0.036   \n",
       "3                 4.8          4.8         0.0            3.2        0.052   \n",
       "4                57.0         29.0         1.1            5.9        0.312   \n",
       "\n",
       "                                        product_name main_category  \\\n",
       "0                      Doradas al horno sin azúcares          None   \n",
       "1                                         Té Clásico          None   \n",
       "2                    La Crème Entière Liquide 35% MG          None   \n",
       "3  Lait demi-écrémé stérilisé UHT - Longue conser...          None   \n",
       "4                       Etoiles marbrées au chocolat          None   \n",
       "\n",
       "                                     categories_tags  \\\n",
       "0  [en:snacks, en:sweet-snacks, en:biscuits-and-c...   \n",
       "1  [en:plant-based-foods-and-beverages, en:bevera...   \n",
       "2  [en:dairies, en:creams, en:uht-creams, en:unfe...   \n",
       "3  [en:dairies, en:creams, en:milks-liquid-and-po...   \n",
       "4  [en:snacks, en:sweet-snacks, en:biscuits-and-c...   \n",
       "\n",
       "                                  brands_tags  \\\n",
       "0                                 [xx:gullon]   \n",
       "1                        [xx:kris, xx:venado]   \n",
       "2  [xx:elle-vire, xx:elle-vire-international]   \n",
       "3  [xx:elle-vire, xx:elle-vire-international]   \n",
       "4                              [xx:carrefour]   \n",
       "\n",
       "                                      countries_tags     serving_size  \\\n",
       "0                            [en:portugal, en:spain]            6,6 g   \n",
       "1                            [en:bolivia, en:france]  1 bolsita 1.7 g   \n",
       "2  [en:belgium, en:bulgaria, en:cote-d-ivoire, en...             30 g   \n",
       "3  [en:belgium, en:cote-d-ivoire, en:france, en:g...           200 ml   \n",
       "4                            [en:belgium, en:france]             None   \n",
       "\n",
       "    created_t nutrition_grade_fr  year   country  \n",
       "0  1504770638                  b  2017  portugal  \n",
       "1  1537026241                  b  2018   bolivia  \n",
       "2  1500018500                  d  2017   belgium  \n",
       "3  1484286724                  c  2017   belgium  \n",
       "4  1511817805                  e  2017   belgium  "
      ]
     },
     "metadata": {},
     "output_type": "display_data"
    }
   ],
   "source": [
    "display(sample_df.head(5))"
   ]
  },
  {
   "cell_type": "code",
   "execution_count": 9,
   "id": "0143b8ca-01d3-4623-9f65-db7f6d371e46",
   "metadata": {
    "execution": {
     "iopub.execute_input": "2025-07-04T19:02:32.996440Z",
     "iopub.status.busy": "2025-07-04T19:02:32.995779Z",
     "iopub.status.idle": "2025-07-04T19:02:33.063076Z",
     "shell.execute_reply": "2025-07-04T19:02:33.062262Z",
     "shell.execute_reply.started": "2025-07-04T19:02:32.996407Z"
    }
   },
   "outputs": [
    {
     "data": {
      "text/html": [
       "<div>\n",
       "<style scoped>\n",
       "    .dataframe tbody tr th:only-of-type {\n",
       "        vertical-align: middle;\n",
       "    }\n",
       "\n",
       "    .dataframe tbody tr th {\n",
       "        vertical-align: top;\n",
       "    }\n",
       "\n",
       "    .dataframe thead th {\n",
       "        text-align: right;\n",
       "    }\n",
       "</style>\n",
       "<table border=\"1\" class=\"dataframe\">\n",
       "  <thead>\n",
       "    <tr style=\"text-align: right;\">\n",
       "      <th></th>\n",
       "      <th>energy_100g</th>\n",
       "      <th>energy-kcal_100g</th>\n",
       "      <th>fat_100g</th>\n",
       "      <th>saturated-fat_100g</th>\n",
       "      <th>carbohydrates_100g</th>\n",
       "      <th>sugars_100g</th>\n",
       "      <th>fiber_100g</th>\n",
       "      <th>proteins_100g</th>\n",
       "      <th>sodium_100g</th>\n",
       "      <th>product_name</th>\n",
       "      <th>main_category</th>\n",
       "      <th>nutrition_grade_fr</th>\n",
       "      <th>year</th>\n",
       "      <th>country</th>\n",
       "    </tr>\n",
       "  </thead>\n",
       "  <tbody>\n",
       "    <tr>\n",
       "      <th>0</th>\n",
       "      <td>1839.0</td>\n",
       "      <td>439.0</td>\n",
       "      <td>18.0</td>\n",
       "      <td>1.5</td>\n",
       "      <td>68.0</td>\n",
       "      <td>0.5</td>\n",
       "      <td>4.0</td>\n",
       "      <td>6.0</td>\n",
       "      <td>0.160</td>\n",
       "      <td>Doradas al horno sin azúcares</td>\n",
       "      <td>None</td>\n",
       "      <td>b</td>\n",
       "      <td>2017</td>\n",
       "      <td>portugal</td>\n",
       "    </tr>\n",
       "    <tr>\n",
       "      <th>1</th>\n",
       "      <td>NaN</td>\n",
       "      <td>NaN</td>\n",
       "      <td>NaN</td>\n",
       "      <td>NaN</td>\n",
       "      <td>NaN</td>\n",
       "      <td>NaN</td>\n",
       "      <td>NaN</td>\n",
       "      <td>NaN</td>\n",
       "      <td>NaN</td>\n",
       "      <td>Té Clásico</td>\n",
       "      <td>None</td>\n",
       "      <td>b</td>\n",
       "      <td>2018</td>\n",
       "      <td>bolivia</td>\n",
       "    </tr>\n",
       "    <tr>\n",
       "      <th>2</th>\n",
       "      <td>1389.0</td>\n",
       "      <td>337.0</td>\n",
       "      <td>35.0</td>\n",
       "      <td>22.2</td>\n",
       "      <td>3.3</td>\n",
       "      <td>3.3</td>\n",
       "      <td>0.0</td>\n",
       "      <td>2.2</td>\n",
       "      <td>0.036</td>\n",
       "      <td>La Crème Entière Liquide 35% MG</td>\n",
       "      <td>None</td>\n",
       "      <td>d</td>\n",
       "      <td>2017</td>\n",
       "      <td>belgium</td>\n",
       "    </tr>\n",
       "    <tr>\n",
       "      <th>3</th>\n",
       "      <td>193.0</td>\n",
       "      <td>46.0</td>\n",
       "      <td>1.5</td>\n",
       "      <td>1.0</td>\n",
       "      <td>4.8</td>\n",
       "      <td>4.8</td>\n",
       "      <td>0.0</td>\n",
       "      <td>3.2</td>\n",
       "      <td>0.052</td>\n",
       "      <td>Lait demi-écrémé stérilisé UHT - Longue conser...</td>\n",
       "      <td>None</td>\n",
       "      <td>c</td>\n",
       "      <td>2017</td>\n",
       "      <td>belgium</td>\n",
       "    </tr>\n",
       "    <tr>\n",
       "      <th>4</th>\n",
       "      <td>1816.0</td>\n",
       "      <td>434.0</td>\n",
       "      <td>20.0</td>\n",
       "      <td>14.0</td>\n",
       "      <td>57.0</td>\n",
       "      <td>29.0</td>\n",
       "      <td>1.1</td>\n",
       "      <td>5.9</td>\n",
       "      <td>0.312</td>\n",
       "      <td>Etoiles marbrées au chocolat</td>\n",
       "      <td>None</td>\n",
       "      <td>e</td>\n",
       "      <td>2017</td>\n",
       "      <td>belgium</td>\n",
       "    </tr>\n",
       "  </tbody>\n",
       "</table>\n",
       "</div>"
      ],
      "text/plain": [
       "   energy_100g  energy-kcal_100g  fat_100g  saturated-fat_100g  \\\n",
       "0       1839.0             439.0      18.0                 1.5   \n",
       "1          NaN               NaN       NaN                 NaN   \n",
       "2       1389.0             337.0      35.0                22.2   \n",
       "3        193.0              46.0       1.5                 1.0   \n",
       "4       1816.0             434.0      20.0                14.0   \n",
       "\n",
       "   carbohydrates_100g  sugars_100g  fiber_100g  proteins_100g  sodium_100g  \\\n",
       "0                68.0          0.5         4.0            6.0        0.160   \n",
       "1                 NaN          NaN         NaN            NaN          NaN   \n",
       "2                 3.3          3.3         0.0            2.2        0.036   \n",
       "3                 4.8          4.8         0.0            3.2        0.052   \n",
       "4                57.0         29.0         1.1            5.9        0.312   \n",
       "\n",
       "                                        product_name main_category  \\\n",
       "0                      Doradas al horno sin azúcares          None   \n",
       "1                                         Té Clásico          None   \n",
       "2                    La Crème Entière Liquide 35% MG          None   \n",
       "3  Lait demi-écrémé stérilisé UHT - Longue conser...          None   \n",
       "4                       Etoiles marbrées au chocolat          None   \n",
       "\n",
       "  nutrition_grade_fr  year   country  \n",
       "0                  b  2017  portugal  \n",
       "1                  b  2018   bolivia  \n",
       "2                  d  2017   belgium  \n",
       "3                  c  2017   belgium  \n",
       "4                  e  2017   belgium  "
      ]
     },
     "metadata": {},
     "output_type": "display_data"
    }
   ],
   "source": [
    "# remove some redundant and messy columns before data profiling\n",
    "list_cols = ['categories_tags', 'brands_tags', 'countries_tags', 'serving_size', 'created_t']\n",
    "\n",
    "df_clean = sample_df.copy()\n",
    "\n",
    "# drop those columns\n",
    "df_clean = df_clean.drop(columns=list_cols)\n",
    "\n",
    "display(df_clean.head())"
   ]
  },
  {
   "cell_type": "code",
   "execution_count": 10,
   "id": "953b0aef-42db-4b35-8077-83793cd2ba9f",
   "metadata": {
    "execution": {
     "iopub.execute_input": "2025-07-04T19:02:34.902826Z",
     "iopub.status.busy": "2025-07-04T19:02:34.902071Z",
     "iopub.status.idle": "2025-07-04T19:02:38.667273Z",
     "shell.execute_reply": "2025-07-04T19:02:38.666504Z",
     "shell.execute_reply.started": "2025-07-04T19:02:34.902784Z"
    }
   },
   "outputs": [
    {
     "data": {
      "text/html": [
       "\n",
       "            <div>\n",
       "                <ins><a href=\"https://ydata.ai/register\">Upgrade to ydata-sdk</a></ins>\n",
       "                <p>\n",
       "                    Improve your data and profiling with ydata-sdk, featuring data quality scoring, redundancy detection, outlier identification, text validation, and synthetic data generation.\n",
       "                </p>\n",
       "            </div>\n",
       "            "
      ],
      "text/plain": [
       "<IPython.core.display.HTML object>"
      ]
     },
     "metadata": {},
     "output_type": "display_data"
    }
   ],
   "source": [
    "# create profile report from cleaned dataset\n",
    "from ydata_profiling import ProfileReport\n",
    "import awswrangler as wr\n",
    "profile = ProfileReport(\n",
    "    df_clean,\n",
    "    minimal=True,\n",
    "    title=\"Nutrisage EDA (clean)\",\n",
    "    explorative=True\n",
    ")"
   ]
  },
  {
   "cell_type": "code",
   "execution_count": 11,
   "id": "f1046fcb-bf8f-4938-9268-2ce0ea65fc05",
   "metadata": {
    "execution": {
     "iopub.execute_input": "2025-07-04T19:02:45.020994Z",
     "iopub.status.busy": "2025-07-04T19:02:45.020472Z",
     "iopub.status.idle": "2025-07-04T19:02:54.473270Z",
     "shell.execute_reply": "2025-07-04T19:02:54.472500Z",
     "shell.execute_reply.started": "2025-07-04T19:02:45.020967Z"
    }
   },
   "outputs": [
    {
     "data": {
      "application/vnd.jupyter.widget-view+json": {
       "model_id": "59dea38b4a4b415a8aa58f15a75b4204",
       "version_major": 2,
       "version_minor": 0
      },
      "text/plain": [
       "Summarize dataset:   0%|          | 0/5 [00:00<?, ?it/s]"
      ]
     },
     "metadata": {},
     "output_type": "display_data"
    },
    {
     "name": "stderr",
     "output_type": "stream",
     "text": [
      "\n",
      "  0%|          | 0/14 [00:00<?, ?it/s]\u001b[A\n",
      " 36%|███▌      | 5/14 [00:00<00:00, 37.17it/s]\u001b[A\n",
      " 64%|██████▍   | 9/14 [00:00<00:00, 15.82it/s]\u001b[A\n",
      "100%|██████████| 14/14 [00:01<00:00,  7.09it/s]\u001b[A\n"
     ]
    },
    {
     "data": {
      "application/vnd.jupyter.widget-view+json": {
       "model_id": "d1cad19748b54629afa1f27cb1b9ce26",
       "version_major": 2,
       "version_minor": 0
      },
      "text/plain": [
       "Generate report structure:   0%|          | 0/1 [00:00<?, ?it/s]"
      ]
     },
     "metadata": {},
     "output_type": "display_data"
    },
    {
     "data": {
      "application/vnd.jupyter.widget-view+json": {
       "model_id": "fd2dc786ca38470cb8b540700849c6df",
       "version_major": 2,
       "version_minor": 0
      },
      "text/plain": [
       "Render HTML:   0%|          | 0/1 [00:00<?, ?it/s]"
      ]
     },
     "metadata": {},
     "output_type": "display_data"
    },
    {
     "data": {
      "application/vnd.jupyter.widget-view+json": {
       "model_id": "9318305ded604ffcbec12fce63b677d6",
       "version_major": 2,
       "version_minor": 0
      },
      "text/plain": [
       "Export report to file:   0%|          | 0/1 [00:00<?, ?it/s]"
      ]
     },
     "metadata": {},
     "output_type": "display_data"
    },
    {
     "data": {
      "application/vnd.jupyter.widget-view+json": {
       "model_id": "fc0547bee9584e5a96f392ea2eddd003",
       "version_major": 2,
       "version_minor": 0
      },
      "text/plain": [
       "Render JSON:   0%|          | 0/1 [00:00<?, ?it/s]"
      ]
     },
     "metadata": {},
     "output_type": "display_data"
    },
    {
     "data": {
      "application/vnd.jupyter.widget-view+json": {
       "model_id": "b6cfdac9453045cca997a4376e079634",
       "version_major": 2,
       "version_minor": 0
      },
      "text/plain": [
       "Export report to file:   0%|          | 0/1 [00:00<?, ?it/s]"
      ]
     },
     "metadata": {},
     "output_type": "display_data"
    },
    {
     "name": "stderr",
     "output_type": "stream",
     "text": [
      "/tmp/ipykernel_29731/893884539.py:5: DeprecationWarning: datetime.datetime.utcnow() is deprecated and scheduled for removal in a future version. Use timezone-aware objects to represent datetimes in UTC: datetime.datetime.now(datetime.UTC).\n",
      "  date = datetime.datetime.utcnow().strftime(\"%Y-%m-%d\")\n"
     ]
    }
   ],
   "source": [
    "# save the report to s3 athena bucket\n",
    "import datetime\n",
    "profile.to_file(\"/tmp/nutrisage_profile.html\")\n",
    "profile.to_file(\"/tmp/nutrisage_profile.json\")\n",
    "date = datetime.datetime.utcnow().strftime(\"%Y-%m-%d\")\n",
    "wr.s3.upload(\"/tmp/nutrisage_profile.html\", f\"s3://nutrisage-athena-results-352364310453/eda/{date}/nutrisage_profile.html\",\n",
    "            use_threads=True, boto3_session=None)\n",
    "wr.s3.upload(\"/tmp/nutrisage_profile.json\", f\"s3://nutrisage-athena-results-352364310453/eda/{date}/nutrisage_profile.json\",\n",
    "            use_threads=True, boto3_session=None)"
   ]
  },
  {
   "cell_type": "markdown",
   "id": "b1619bb1-207b-4c2f-809f-3ef3e7b7db3c",
   "metadata": {},
   "source": [
    "### 3. Outlier and Nonvalid Removal"
   ]
  },
  {
   "cell_type": "markdown",
   "id": "b53decde-a53c-4b64-ad28-6a9cdbf8a674",
   "metadata": {},
   "source": [
    "The initial EDA analysis showed that there are outliers (values larger than 100) in columns reporting the nutrients in 100g portion. So, the first step is dropping those rows.\n",
    "Also, drop main_category colums which is all null. Drop the null and unknown values from nutrition_grade_fr (target) column. \n",
    "I keep record of dropped row and log any rows I drop so the rule is reproducible."
   ]
  },
  {
   "cell_type": "code",
   "execution_count": 22,
   "id": "f9493347-ad4e-4620-b199-b183565e4e94",
   "metadata": {
    "execution": {
     "iopub.execute_input": "2025-07-04T19:07:13.202414Z",
     "iopub.status.busy": "2025-07-04T19:07:13.202082Z",
     "iopub.status.idle": "2025-07-04T19:07:13.407067Z",
     "shell.execute_reply": "2025-07-04T19:07:13.406219Z",
     "shell.execute_reply.started": "2025-07-04T19:07:13.202387Z"
    }
   },
   "outputs": [
    {
     "data": {
      "text/html": [
       "<div>\n",
       "<style scoped>\n",
       "    .dataframe tbody tr th:only-of-type {\n",
       "        vertical-align: middle;\n",
       "    }\n",
       "\n",
       "    .dataframe tbody tr th {\n",
       "        vertical-align: top;\n",
       "    }\n",
       "\n",
       "    .dataframe thead th {\n",
       "        text-align: right;\n",
       "    }\n",
       "</style>\n",
       "<table border=\"1\" class=\"dataframe\">\n",
       "  <thead>\n",
       "    <tr style=\"text-align: right;\">\n",
       "      <th></th>\n",
       "      <th>energy_100g</th>\n",
       "      <th>energy-kcal_100g</th>\n",
       "      <th>fat_100g</th>\n",
       "      <th>saturated-fat_100g</th>\n",
       "      <th>carbohydrates_100g</th>\n",
       "      <th>sugars_100g</th>\n",
       "      <th>fiber_100g</th>\n",
       "      <th>proteins_100g</th>\n",
       "      <th>sodium_100g</th>\n",
       "      <th>product_name</th>\n",
       "      <th>main_category</th>\n",
       "      <th>nutrition_grade_fr</th>\n",
       "      <th>year</th>\n",
       "      <th>country</th>\n",
       "    </tr>\n",
       "  </thead>\n",
       "  <tbody>\n",
       "    <tr>\n",
       "      <th>0</th>\n",
       "      <td>1839.0</td>\n",
       "      <td>439.0</td>\n",
       "      <td>18.0</td>\n",
       "      <td>1.5</td>\n",
       "      <td>68.0</td>\n",
       "      <td>0.5</td>\n",
       "      <td>4.0</td>\n",
       "      <td>6.0</td>\n",
       "      <td>0.160</td>\n",
       "      <td>Doradas al horno sin azúcares</td>\n",
       "      <td>None</td>\n",
       "      <td>b</td>\n",
       "      <td>2017</td>\n",
       "      <td>portugal</td>\n",
       "    </tr>\n",
       "    <tr>\n",
       "      <th>1</th>\n",
       "      <td>NaN</td>\n",
       "      <td>NaN</td>\n",
       "      <td>NaN</td>\n",
       "      <td>NaN</td>\n",
       "      <td>NaN</td>\n",
       "      <td>NaN</td>\n",
       "      <td>NaN</td>\n",
       "      <td>NaN</td>\n",
       "      <td>NaN</td>\n",
       "      <td>Té Clásico</td>\n",
       "      <td>None</td>\n",
       "      <td>b</td>\n",
       "      <td>2018</td>\n",
       "      <td>bolivia</td>\n",
       "    </tr>\n",
       "    <tr>\n",
       "      <th>2</th>\n",
       "      <td>1389.0</td>\n",
       "      <td>337.0</td>\n",
       "      <td>35.0</td>\n",
       "      <td>22.2</td>\n",
       "      <td>3.3</td>\n",
       "      <td>3.3</td>\n",
       "      <td>0.0</td>\n",
       "      <td>2.2</td>\n",
       "      <td>0.036</td>\n",
       "      <td>La Crème Entière Liquide 35% MG</td>\n",
       "      <td>None</td>\n",
       "      <td>d</td>\n",
       "      <td>2017</td>\n",
       "      <td>belgium</td>\n",
       "    </tr>\n",
       "    <tr>\n",
       "      <th>3</th>\n",
       "      <td>193.0</td>\n",
       "      <td>46.0</td>\n",
       "      <td>1.5</td>\n",
       "      <td>1.0</td>\n",
       "      <td>4.8</td>\n",
       "      <td>4.8</td>\n",
       "      <td>0.0</td>\n",
       "      <td>3.2</td>\n",
       "      <td>0.052</td>\n",
       "      <td>Lait demi-écrémé stérilisé UHT - Longue conser...</td>\n",
       "      <td>None</td>\n",
       "      <td>c</td>\n",
       "      <td>2017</td>\n",
       "      <td>belgium</td>\n",
       "    </tr>\n",
       "    <tr>\n",
       "      <th>4</th>\n",
       "      <td>1816.0</td>\n",
       "      <td>434.0</td>\n",
       "      <td>20.0</td>\n",
       "      <td>14.0</td>\n",
       "      <td>57.0</td>\n",
       "      <td>29.0</td>\n",
       "      <td>1.1</td>\n",
       "      <td>5.9</td>\n",
       "      <td>0.312</td>\n",
       "      <td>Etoiles marbrées au chocolat</td>\n",
       "      <td>None</td>\n",
       "      <td>e</td>\n",
       "      <td>2017</td>\n",
       "      <td>belgium</td>\n",
       "    </tr>\n",
       "  </tbody>\n",
       "</table>\n",
       "</div>"
      ],
      "text/plain": [
       "   energy_100g  energy-kcal_100g  fat_100g  saturated-fat_100g  \\\n",
       "0       1839.0             439.0      18.0                 1.5   \n",
       "1          NaN               NaN       NaN                 NaN   \n",
       "2       1389.0             337.0      35.0                22.2   \n",
       "3        193.0              46.0       1.5                 1.0   \n",
       "4       1816.0             434.0      20.0                14.0   \n",
       "\n",
       "   carbohydrates_100g  sugars_100g  fiber_100g  proteins_100g  sodium_100g  \\\n",
       "0                68.0          0.5         4.0            6.0        0.160   \n",
       "1                 NaN          NaN         NaN            NaN          NaN   \n",
       "2                 3.3          3.3         0.0            2.2        0.036   \n",
       "3                 4.8          4.8         0.0            3.2        0.052   \n",
       "4                57.0         29.0         1.1            5.9        0.312   \n",
       "\n",
       "                                        product_name main_category  \\\n",
       "0                      Doradas al horno sin azúcares          None   \n",
       "1                                         Té Clásico          None   \n",
       "2                    La Crème Entière Liquide 35% MG          None   \n",
       "3  Lait demi-écrémé stérilisé UHT - Longue conser...          None   \n",
       "4                       Etoiles marbrées au chocolat          None   \n",
       "\n",
       "  nutrition_grade_fr  year   country  \n",
       "0                  b  2017  portugal  \n",
       "1                  b  2018   bolivia  \n",
       "2                  d  2017   belgium  \n",
       "3                  c  2017   belgium  \n",
       "4                  e  2017   belgium  "
      ]
     },
     "execution_count": 22,
     "metadata": {},
     "output_type": "execute_result"
    }
   ],
   "source": [
    "df_proc = df_clean.copy()\n",
    "cols = [col for col in df_clean.columns  if (col.endswith('_100g') and col not in ['energy_100g', 'energy-kcal_100g'])]\n",
    "for col in cols:\n",
    "    mask = (df_proc[col].isna()) | (df_proc[col] <= 100) \n",
    "    df_proc = df_proc.loc[mask]\n",
    "    \n",
    "df_proc.head()"
   ]
  },
  {
   "cell_type": "code",
   "execution_count": 24,
   "id": "c23329a4-4f9a-4ef3-a7f0-1fd3288631ec",
   "metadata": {
    "execution": {
     "iopub.execute_input": "2025-07-04T19:07:38.929381Z",
     "iopub.status.busy": "2025-07-04T19:07:38.928727Z",
     "iopub.status.idle": "2025-07-04T19:07:38.976420Z",
     "shell.execute_reply": "2025-07-04T19:07:38.975531Z",
     "shell.execute_reply.started": "2025-07-04T19:07:38.929350Z"
    }
   },
   "outputs": [
    {
     "data": {
      "text/html": [
       "<div>\n",
       "<style scoped>\n",
       "    .dataframe tbody tr th:only-of-type {\n",
       "        vertical-align: middle;\n",
       "    }\n",
       "\n",
       "    .dataframe tbody tr th {\n",
       "        vertical-align: top;\n",
       "    }\n",
       "\n",
       "    .dataframe thead th {\n",
       "        text-align: right;\n",
       "    }\n",
       "</style>\n",
       "<table border=\"1\" class=\"dataframe\">\n",
       "  <thead>\n",
       "    <tr style=\"text-align: right;\">\n",
       "      <th></th>\n",
       "      <th>energy_100g</th>\n",
       "      <th>energy-kcal_100g</th>\n",
       "      <th>fat_100g</th>\n",
       "      <th>saturated-fat_100g</th>\n",
       "      <th>carbohydrates_100g</th>\n",
       "      <th>sugars_100g</th>\n",
       "      <th>fiber_100g</th>\n",
       "      <th>proteins_100g</th>\n",
       "      <th>sodium_100g</th>\n",
       "      <th>product_name</th>\n",
       "      <th>nutrition_grade_fr</th>\n",
       "      <th>year</th>\n",
       "      <th>country</th>\n",
       "    </tr>\n",
       "  </thead>\n",
       "  <tbody>\n",
       "    <tr>\n",
       "      <th>0</th>\n",
       "      <td>1839.0</td>\n",
       "      <td>439.0</td>\n",
       "      <td>18.0</td>\n",
       "      <td>1.5</td>\n",
       "      <td>68.0</td>\n",
       "      <td>0.5</td>\n",
       "      <td>4.0</td>\n",
       "      <td>6.0</td>\n",
       "      <td>0.160</td>\n",
       "      <td>Doradas al horno sin azúcares</td>\n",
       "      <td>b</td>\n",
       "      <td>2017</td>\n",
       "      <td>portugal</td>\n",
       "    </tr>\n",
       "    <tr>\n",
       "      <th>1</th>\n",
       "      <td>NaN</td>\n",
       "      <td>NaN</td>\n",
       "      <td>NaN</td>\n",
       "      <td>NaN</td>\n",
       "      <td>NaN</td>\n",
       "      <td>NaN</td>\n",
       "      <td>NaN</td>\n",
       "      <td>NaN</td>\n",
       "      <td>NaN</td>\n",
       "      <td>Té Clásico</td>\n",
       "      <td>b</td>\n",
       "      <td>2018</td>\n",
       "      <td>bolivia</td>\n",
       "    </tr>\n",
       "    <tr>\n",
       "      <th>2</th>\n",
       "      <td>1389.0</td>\n",
       "      <td>337.0</td>\n",
       "      <td>35.0</td>\n",
       "      <td>22.2</td>\n",
       "      <td>3.3</td>\n",
       "      <td>3.3</td>\n",
       "      <td>0.0</td>\n",
       "      <td>2.2</td>\n",
       "      <td>0.036</td>\n",
       "      <td>La Crème Entière Liquide 35% MG</td>\n",
       "      <td>d</td>\n",
       "      <td>2017</td>\n",
       "      <td>belgium</td>\n",
       "    </tr>\n",
       "    <tr>\n",
       "      <th>3</th>\n",
       "      <td>193.0</td>\n",
       "      <td>46.0</td>\n",
       "      <td>1.5</td>\n",
       "      <td>1.0</td>\n",
       "      <td>4.8</td>\n",
       "      <td>4.8</td>\n",
       "      <td>0.0</td>\n",
       "      <td>3.2</td>\n",
       "      <td>0.052</td>\n",
       "      <td>Lait demi-écrémé stérilisé UHT - Longue conser...</td>\n",
       "      <td>c</td>\n",
       "      <td>2017</td>\n",
       "      <td>belgium</td>\n",
       "    </tr>\n",
       "    <tr>\n",
       "      <th>4</th>\n",
       "      <td>1816.0</td>\n",
       "      <td>434.0</td>\n",
       "      <td>20.0</td>\n",
       "      <td>14.0</td>\n",
       "      <td>57.0</td>\n",
       "      <td>29.0</td>\n",
       "      <td>1.1</td>\n",
       "      <td>5.9</td>\n",
       "      <td>0.312</td>\n",
       "      <td>Etoiles marbrées au chocolat</td>\n",
       "      <td>e</td>\n",
       "      <td>2017</td>\n",
       "      <td>belgium</td>\n",
       "    </tr>\n",
       "  </tbody>\n",
       "</table>\n",
       "</div>"
      ],
      "text/plain": [
       "   energy_100g  energy-kcal_100g  fat_100g  saturated-fat_100g  \\\n",
       "0       1839.0             439.0      18.0                 1.5   \n",
       "1          NaN               NaN       NaN                 NaN   \n",
       "2       1389.0             337.0      35.0                22.2   \n",
       "3        193.0              46.0       1.5                 1.0   \n",
       "4       1816.0             434.0      20.0                14.0   \n",
       "\n",
       "   carbohydrates_100g  sugars_100g  fiber_100g  proteins_100g  sodium_100g  \\\n",
       "0                68.0          0.5         4.0            6.0        0.160   \n",
       "1                 NaN          NaN         NaN            NaN          NaN   \n",
       "2                 3.3          3.3         0.0            2.2        0.036   \n",
       "3                 4.8          4.8         0.0            3.2        0.052   \n",
       "4                57.0         29.0         1.1            5.9        0.312   \n",
       "\n",
       "                                        product_name nutrition_grade_fr  year  \\\n",
       "0                      Doradas al horno sin azúcares                  b  2017   \n",
       "1                                         Té Clásico                  b  2018   \n",
       "2                    La Crème Entière Liquide 35% MG                  d  2017   \n",
       "3  Lait demi-écrémé stérilisé UHT - Longue conser...                  c  2017   \n",
       "4                       Etoiles marbrées au chocolat                  e  2017   \n",
       "\n",
       "    country  \n",
       "0  portugal  \n",
       "1   bolivia  \n",
       "2   belgium  \n",
       "3   belgium  \n",
       "4   belgium  "
      ]
     },
     "execution_count": 24,
     "metadata": {},
     "output_type": "execute_result"
    }
   ],
   "source": [
    "df_proc = df_proc.loc[df_proc['nutrition_grade_fr'].isin(['a', 'b', 'c', 'd', 'e']), :]\n",
    "df_proc.drop(columns=['main_category'], inplace=True)\n",
    "df_proc.reset_index()\n",
    "df_proc.head()"
   ]
  },
  {
   "cell_type": "code",
   "execution_count": 25,
   "id": "7c63b3ee-9c57-4bc1-b590-9d0ea0efe2fb",
   "metadata": {
    "execution": {
     "iopub.execute_input": "2025-07-04T19:07:52.671717Z",
     "iopub.status.busy": "2025-07-04T19:07:52.671422Z",
     "iopub.status.idle": "2025-07-04T19:08:00.169456Z",
     "shell.execute_reply": "2025-07-04T19:08:00.168088Z",
     "shell.execute_reply.started": "2025-07-04T19:07:52.671694Z"
    }
   },
   "outputs": [
    {
     "data": {
      "application/vnd.jupyter.widget-view+json": {
       "model_id": "68ef3c03424e4e229525e8e13ecf211b",
       "version_major": 2,
       "version_minor": 0
      },
      "text/plain": [
       "Summarize dataset:   0%|          | 0/5 [00:00<?, ?it/s]"
      ]
     },
     "metadata": {},
     "output_type": "display_data"
    },
    {
     "name": "stderr",
     "output_type": "stream",
     "text": [
      "\n",
      "  0%|          | 0/13 [00:00<?, ?it/s]\u001b[A\n",
      " 31%|███       | 4/13 [00:00<00:00, 38.97it/s]\u001b[A\n",
      " 62%|██████▏   | 8/13 [00:00<00:00, 38.73it/s]\u001b[A\n",
      "100%|██████████| 13/13 [00:00<00:00, 14.29it/s]\u001b[A\n"
     ]
    },
    {
     "data": {
      "application/vnd.jupyter.widget-view+json": {
       "model_id": "58bcb23080a44e508dc89913c0cc9bf9",
       "version_major": 2,
       "version_minor": 0
      },
      "text/plain": [
       "Generate report structure:   0%|          | 0/1 [00:00<?, ?it/s]"
      ]
     },
     "metadata": {},
     "output_type": "display_data"
    },
    {
     "data": {
      "application/vnd.jupyter.widget-view+json": {
       "model_id": "3d4f408dc799447a86917b2af6ad8bd1",
       "version_major": 2,
       "version_minor": 0
      },
      "text/plain": [
       "Render HTML:   0%|          | 0/1 [00:00<?, ?it/s]"
      ]
     },
     "metadata": {},
     "output_type": "display_data"
    },
    {
     "data": {
      "application/vnd.jupyter.widget-view+json": {
       "model_id": "677e790b9eac4ab88b8903c522ae1c7f",
       "version_major": 2,
       "version_minor": 0
      },
      "text/plain": [
       "Export report to file:   0%|          | 0/1 [00:00<?, ?it/s]"
      ]
     },
     "metadata": {},
     "output_type": "display_data"
    },
    {
     "data": {
      "application/vnd.jupyter.widget-view+json": {
       "model_id": "fc1f4898079641649322a11eb12e5438",
       "version_major": 2,
       "version_minor": 0
      },
      "text/plain": [
       "Render JSON:   0%|          | 0/1 [00:00<?, ?it/s]"
      ]
     },
     "metadata": {},
     "output_type": "display_data"
    },
    {
     "data": {
      "application/vnd.jupyter.widget-view+json": {
       "model_id": "273af9ed6be140a09f71f31b2e4e8a66",
       "version_major": 2,
       "version_minor": 0
      },
      "text/plain": [
       "Export report to file:   0%|          | 0/1 [00:00<?, ?it/s]"
      ]
     },
     "metadata": {},
     "output_type": "display_data"
    }
   ],
   "source": [
    "profile = ProfileReport(\n",
    "    df_proc,\n",
    "    minimal=True,\n",
    "    title=\"Nutrisage EDA (clean-Outlier removal)\",\n",
    "    explorative=True\n",
    ")\n",
    "\n",
    "profile.to_file(\"/tmp/nutrisage_profile_oulier_removal.html\")\n",
    "wr.s3.upload(\"/tmp/nutrisage_profile_oulier_removal.html\", f\"s3://nutrisage-athena-results-352364310453/eda/{date}/nutrisage_profile_oulier_removal.html\",\n",
    "            use_threads=True, boto3_session=None)\n",
    "\n",
    "profile.to_file(\"/tmp/nutrisage_profile_oulier_removal.json\")\n",
    "wr.s3.upload(\"/tmp/nutrisage_profile_oulier_removal.json\", f\"s3://nutrisage-athena-results-352364310453/eda/{date}/nutrisage_profile_oulier_removal.json\",\n",
    "            use_threads=True, boto3_session=None)"
   ]
  },
  {
   "cell_type": "code",
   "execution_count": 26,
   "id": "b0940214-8f35-4e3a-8991-fae5070907a7",
   "metadata": {
    "execution": {
     "iopub.execute_input": "2025-07-04T19:08:00.172156Z",
     "iopub.status.busy": "2025-07-04T19:08:00.171762Z",
     "iopub.status.idle": "2025-07-04T19:08:00.177490Z",
     "shell.execute_reply": "2025-07-04T19:08:00.176507Z",
     "shell.execute_reply.started": "2025-07-04T19:08:00.172131Z"
    }
   },
   "outputs": [
    {
     "data": {
      "text/plain": [
       "(40522, 13)"
      ]
     },
     "execution_count": 26,
     "metadata": {},
     "output_type": "execute_result"
    }
   ],
   "source": [
    "df_proc.shape"
   ]
  },
  {
   "cell_type": "code",
   "execution_count": 27,
   "id": "684ead3f-1588-4a5f-9642-3c63671b3133",
   "metadata": {
    "execution": {
     "iopub.execute_input": "2025-07-04T19:08:04.681625Z",
     "iopub.status.busy": "2025-07-04T19:08:04.681244Z",
     "iopub.status.idle": "2025-07-04T19:08:04.690945Z",
     "shell.execute_reply": "2025-07-04T19:08:04.690096Z",
     "shell.execute_reply.started": "2025-07-04T19:08:04.681601Z"
    }
   },
   "outputs": [
    {
     "data": {
      "text/plain": [
       "nutrition_grade_fr\n",
       "e    11418\n",
       "d    10636\n",
       "c     8283\n",
       "a     5614\n",
       "b     4571\n",
       "Name: count, dtype: int64"
      ]
     },
     "execution_count": 27,
     "metadata": {},
     "output_type": "execute_result"
    }
   ],
   "source": [
    "df_proc['nutrition_grade_fr'].value_counts()"
   ]
  },
  {
   "cell_type": "markdown",
   "id": "0cab2e8b-cb25-4e09-9439-263ddb4c49ae",
   "metadata": {},
   "source": [
    "### 4. Correlation analysis"
   ]
  },
  {
   "cell_type": "markdown",
   "id": "fc7e491d-251e-4124-8733-e9ee95f3e069",
   "metadata": {},
   "source": [
    "First, I drop fiber_100g since it has more than 45% missing values. Also, I drop energy_100g and keep energy-kcal_100g."
   ]
  },
  {
   "cell_type": "code",
   "execution_count": 28,
   "id": "e8c3bc9b-0210-4d06-a170-bb5a2af1201e",
   "metadata": {
    "execution": {
     "iopub.execute_input": "2025-07-04T19:08:09.430101Z",
     "iopub.status.busy": "2025-07-04T19:08:09.429795Z",
     "iopub.status.idle": "2025-07-04T19:08:09.440693Z",
     "shell.execute_reply": "2025-07-04T19:08:09.439370Z",
     "shell.execute_reply.started": "2025-07-04T19:08:09.430078Z"
    }
   },
   "outputs": [],
   "source": [
    "df_proc.drop(columns=['fiber_100g', 'energy_100g'], inplace=True)"
   ]
  },
  {
   "cell_type": "markdown",
   "id": "5d04843e-b93a-47c3-ab0f-456c4a0b2c6a",
   "metadata": {},
   "source": [
    "First, I would like to do a correlation analysis on missing values. The goal is to check if the missing values are systematic or not."
   ]
  },
  {
   "cell_type": "code",
   "execution_count": 29,
   "id": "63bfc72f-641f-45df-a692-90aa6ab264e6",
   "metadata": {
    "execution": {
     "iopub.execute_input": "2025-07-04T19:08:11.353271Z",
     "iopub.status.busy": "2025-07-04T19:08:11.352159Z",
     "iopub.status.idle": "2025-07-04T19:08:11.653873Z",
     "shell.execute_reply": "2025-07-04T19:08:11.653011Z",
     "shell.execute_reply.started": "2025-07-04T19:08:11.353238Z"
    }
   },
   "outputs": [
    {
     "data": {
      "text/plain": [
       "<Axes: >"
      ]
     },
     "execution_count": 29,
     "metadata": {},
     "output_type": "execute_result"
    },
    {
     "data": {
      "image/png": "[encoded data removed]",
      "text/plain": [
       "<Figure size 640x480 with 2 Axes>"
      ]
     },
     "metadata": {},
     "output_type": "display_data"
    }
   ],
   "source": [
    "import seaborn as sns\n",
    "import matplotlib.pyplot as plt\n",
    "\n",
    "%matplotlib inline\n",
    "miss = df_proc.isna().astype(int)\n",
    "miss_corr = miss.iloc[:, :7].corr()\n",
    "sns.heatmap(miss_corr)\n"
   ]
  },
  {
   "cell_type": "code",
   "execution_count": 30,
   "id": "56f14259-521c-46db-b8c7-e0d8f5d835fb",
   "metadata": {
    "execution": {
     "iopub.execute_input": "2025-07-04T19:08:15.991525Z",
     "iopub.status.busy": "2025-07-04T19:08:15.991097Z",
     "iopub.status.idle": "2025-07-04T19:08:16.240640Z",
     "shell.execute_reply": "2025-07-04T19:08:16.239714Z",
     "shell.execute_reply.started": "2025-07-04T19:08:15.991494Z"
    }
   },
   "outputs": [
    {
     "data": {
      "text/plain": [
       "<Axes: >"
      ]
     },
     "execution_count": 30,
     "metadata": {},
     "output_type": "execute_result"
    },
    {
     "data": {
      "image/png": "[encoded data removed]",
      "text/plain": [
       "<Figure size 640x480 with 2 Axes>"
      ]
     },
     "metadata": {},
     "output_type": "display_data"
    }
   ],
   "source": [
    "corr = df_proc.iloc[:,:7].corr()\n",
    "sns.heatmap(corr)"
   ]
  },
  {
   "cell_type": "code",
   "execution_count": 31,
   "id": "652c65f8-03cf-4980-9dc2-a8942d98b89c",
   "metadata": {
    "execution": {
     "iopub.execute_input": "2025-07-04T19:08:17.378282Z",
     "iopub.status.busy": "2025-07-04T19:08:17.377774Z",
     "iopub.status.idle": "2025-07-04T19:08:17.812630Z",
     "shell.execute_reply": "2025-07-04T19:08:17.811511Z",
     "shell.execute_reply.started": "2025-07-04T19:08:17.378250Z"
    }
   },
   "outputs": [],
   "source": [
    "#save the data to s3 bucket\n",
    "df_proc.to_parquet(f\"s3://nutrisage-processed-352364310453/clean_sample/{date}/clean_processed.parquet\")"
   ]
  }
 ],
 "metadata": {
  "kernelspec": {
   "display_name": "Python 3 (ipykernel)",
   "language": "python",
   "name": "python3"
  },
  "language_info": {
   "codemirror_mode": {
    "name": "ipython",
    "version": 3
   },
   "file_extension": ".py",
   "mimetype": "text/x-python",
   "name": "python",
   "nbconvert_exporter": "python",
   "pygments_lexer": "ipython3",
   "version": "3.12.9"
  }
 },
 "nbformat": 4,
 "nbformat_minor": 5
}

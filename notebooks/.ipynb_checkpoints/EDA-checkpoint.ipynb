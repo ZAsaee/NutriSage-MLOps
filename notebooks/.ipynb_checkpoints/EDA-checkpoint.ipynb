{
 "cells": [
  {
   "cell_type": "markdown",
   "id": "a9bc90fb-d372-499c-997e-f81050f3cd66",
   "metadata": {},
   "source": [
    "# Data Wrangling and EDA"
   ]
  },
  {
   "cell_type": "code",
   "execution_count": 1,
   "id": "3c654bb6-eef4-4bef-bcbd-85efb77af084",
   "metadata": {
    "execution": {
     "iopub.execute_input": "2025-07-02T23:19:47.199701Z",
     "iopub.status.busy": "2025-07-02T23:19:47.199375Z",
     "iopub.status.idle": "2025-07-02T23:19:49.349460Z",
     "shell.execute_reply": "2025-07-02T23:19:49.348465Z",
     "shell.execute_reply.started": "2025-07-02T23:19:47.199668Z"
    }
   },
   "outputs": [
    {
     "name": "stdout",
     "output_type": "stream",
     "text": [
      "/home/sagemaker-user/.conda/envs/nutrisage-eda/bin/python\n",
      "nutrisage-eda\n",
      "\n"
     ]
    }
   ],
   "source": [
    "!conda run -n nutrisage-eda python -c \"import sys, os; print(sys.executable); print(os.environ['CONDA_DEFAULT_ENV'])\""
   ]
  },
  {
   "cell_type": "code",
   "execution_count": 2,
   "id": "bcf8cc8b-863d-42b0-96b3-ab2c03dac44d",
   "metadata": {
    "execution": {
     "iopub.execute_input": "2025-07-02T23:19:49.351832Z",
     "iopub.status.busy": "2025-07-02T23:19:49.351554Z",
     "iopub.status.idle": "2025-07-02T23:19:49.355610Z",
     "shell.execute_reply": "2025-07-02T23:19:49.354740Z",
     "shell.execute_reply.started": "2025-07-02T23:19:49.351806Z"
    }
   },
   "outputs": [],
   "source": [
    "from IPython.display import display"
   ]
  },
  {
   "cell_type": "markdown",
   "id": "c56acbfe-5036-4c3e-ae48-425a83357118",
   "metadata": {},
   "source": [
    "### 1. Quick Smoke Test"
   ]
  },
  {
   "cell_type": "code",
   "execution_count": 3,
   "id": "0c6d6e16-ab66-42d1-9140-2680bd7dcde8",
   "metadata": {
    "execution": {
     "iopub.execute_input": "2025-07-02T23:19:49.360650Z",
     "iopub.status.busy": "2025-07-02T23:19:49.360051Z",
     "iopub.status.idle": "2025-07-02T23:19:49.590838Z",
     "shell.execute_reply": "2025-07-02T23:19:49.589518Z",
     "shell.execute_reply.started": "2025-07-02T23:19:49.360566Z"
    }
   },
   "outputs": [],
   "source": [
    "from pyathena import connect\n",
    "\n",
    "conn = connect(s3_staging_dir = \"s3://nutrisage-athena-results-352364310453/athena-tmp/\",\n",
    "                region_name = \"us-east-1\")"
   ]
  },
  {
   "cell_type": "code",
   "execution_count": 4,
   "id": "75caa8c6-e73a-4d15-acb9-cf790803b22c",
   "metadata": {
    "execution": {
     "iopub.execute_input": "2025-07-02T23:19:49.592418Z",
     "iopub.status.busy": "2025-07-02T23:19:49.591960Z",
     "iopub.status.idle": "2025-07-02T23:19:55.527490Z",
     "shell.execute_reply": "2025-07-02T23:19:55.526506Z",
     "shell.execute_reply.started": "2025-07-02T23:19:49.592393Z"
    }
   },
   "outputs": [
    {
     "name": "stderr",
     "output_type": "stream",
     "text": [
      "/tmp/ipykernel_7368/3150741353.py:3: UserWarning: pandas only supports SQLAlchemy connectable (engine/connection) or database string URI or sqlite3 DBAPI2 connection. Other DBAPI2 objects are not tested. Please consider using SQLAlchemy.\n",
      "  df = pd.read_sql(\"SELECT count(*) AS rows FROM nutrisage_datalake.processed\", conn)\n"
     ]
    },
    {
     "data": {
      "text/html": [
       "<div>\n",
       "<style scoped>\n",
       "    .dataframe tbody tr th:only-of-type {\n",
       "        vertical-align: middle;\n",
       "    }\n",
       "\n",
       "    .dataframe tbody tr th {\n",
       "        vertical-align: top;\n",
       "    }\n",
       "\n",
       "    .dataframe thead th {\n",
       "        text-align: right;\n",
       "    }\n",
       "</style>\n",
       "<table border=\"1\" class=\"dataframe\">\n",
       "  <thead>\n",
       "    <tr style=\"text-align: right;\">\n",
       "      <th></th>\n",
       "      <th>rows</th>\n",
       "    </tr>\n",
       "  </thead>\n",
       "  <tbody>\n",
       "    <tr>\n",
       "      <th>0</th>\n",
       "      <td>3796056</td>\n",
       "    </tr>\n",
       "  </tbody>\n",
       "</table>\n",
       "</div>"
      ],
      "text/plain": [
       "      rows\n",
       "0  3796056"
      ]
     },
     "metadata": {},
     "output_type": "display_data"
    }
   ],
   "source": [
    "import pandas as pd\n",
    "\n",
    "df = pd.read_sql(\"SELECT count(*) AS rows FROM nutrisage_datalake.processed\", conn)\n",
    "display(df)"
   ]
  },
  {
   "cell_type": "markdown",
   "id": "013b74af-0281-4d14-90d2-8812f9d21bd1",
   "metadata": {
    "execution": {
     "iopub.execute_input": "2025-07-01T14:16:01.990316Z",
     "iopub.status.busy": "2025-07-01T14:16:01.987344Z",
     "iopub.status.idle": "2025-07-01T14:16:02.009368Z",
     "shell.execute_reply": "2025-07-01T14:16:02.008320Z",
     "shell.execute_reply.started": "2025-07-01T14:16:01.990267Z"
    }
   },
   "source": [
    "### 2. Automated Data Profiling"
   ]
  },
  {
   "cell_type": "code",
   "execution_count": 5,
   "id": "e3beeff2-2164-4373-afce-b82714060e27",
   "metadata": {
    "execution": {
     "iopub.execute_input": "2025-07-02T23:19:55.530009Z",
     "iopub.status.busy": "2025-07-02T23:19:55.529621Z",
     "iopub.status.idle": "2025-07-02T23:21:43.461163Z",
     "shell.execute_reply": "2025-07-02T23:21:43.460432Z",
     "shell.execute_reply.started": "2025-07-02T23:19:55.529983Z"
    }
   },
   "outputs": [
    {
     "name": "stderr",
     "output_type": "stream",
     "text": [
      "/tmp/ipykernel_7368/2060585798.py:1: UserWarning: pandas only supports SQLAlchemy connectable (engine/connection) or database string URI or sqlite3 DBAPI2 connection. Other DBAPI2 objects are not tested. Please consider using SQLAlchemy.\n",
      "  sample_df = pd.read_sql(\"\"\"\n"
     ]
    }
   ],
   "source": [
    "sample_df = pd.read_sql(\"\"\"\n",
    "    SELECT *\n",
    "    FROM nutrisage_datalake.processed\n",
    "    TABLESAMPLE BERNOULLI (10)\n",
    "    \"\"\", conn)"
   ]
  },
  {
   "cell_type": "code",
   "execution_count": 6,
   "id": "3001e75c-d0fb-47ca-ad65-fccbfa14703e",
   "metadata": {
    "execution": {
     "iopub.execute_input": "2025-07-02T23:21:43.462944Z",
     "iopub.status.busy": "2025-07-02T23:21:43.462623Z",
     "iopub.status.idle": "2025-07-02T23:21:43.468773Z",
     "shell.execute_reply": "2025-07-02T23:21:43.468086Z",
     "shell.execute_reply.started": "2025-07-02T23:21:43.462914Z"
    }
   },
   "outputs": [
    {
     "data": {
      "text/plain": [
       "(379409, 19)"
      ]
     },
     "metadata": {},
     "output_type": "display_data"
    }
   ],
   "source": [
    "display(sample_df.shape)"
   ]
  },
  {
   "cell_type": "code",
   "execution_count": 8,
   "id": "899df4b8-a019-4744-85f8-33836309007f",
   "metadata": {
    "execution": {
     "iopub.execute_input": "2025-07-02T23:21:58.144412Z",
     "iopub.status.busy": "2025-07-02T23:21:58.143827Z",
     "iopub.status.idle": "2025-07-02T23:21:58.162385Z",
     "shell.execute_reply": "2025-07-02T23:21:58.161637Z",
     "shell.execute_reply.started": "2025-07-02T23:21:58.144380Z"
    }
   },
   "outputs": [
    {
     "data": {
      "text/html": [
       "<div>\n",
       "<style scoped>\n",
       "    .dataframe tbody tr th:only-of-type {\n",
       "        vertical-align: middle;\n",
       "    }\n",
       "\n",
       "    .dataframe tbody tr th {\n",
       "        vertical-align: top;\n",
       "    }\n",
       "\n",
       "    .dataframe thead th {\n",
       "        text-align: right;\n",
       "    }\n",
       "</style>\n",
       "<table border=\"1\" class=\"dataframe\">\n",
       "  <thead>\n",
       "    <tr style=\"text-align: right;\">\n",
       "      <th></th>\n",
       "      <th>energy_100g</th>\n",
       "      <th>energy-kcal_100g</th>\n",
       "      <th>fat_100g</th>\n",
       "      <th>saturated-fat_100g</th>\n",
       "      <th>carbohydrates_100g</th>\n",
       "      <th>sugars_100g</th>\n",
       "      <th>fiber_100g</th>\n",
       "      <th>proteins_100g</th>\n",
       "      <th>sodium_100g</th>\n",
       "      <th>product_name</th>\n",
       "      <th>main_category</th>\n",
       "      <th>categories_tags</th>\n",
       "      <th>brands_tags</th>\n",
       "      <th>countries_tags</th>\n",
       "      <th>serving_size</th>\n",
       "      <th>created_t</th>\n",
       "      <th>nutrition_grade_fr</th>\n",
       "      <th>year</th>\n",
       "      <th>country</th>\n",
       "    </tr>\n",
       "  </thead>\n",
       "  <tbody>\n",
       "    <tr>\n",
       "      <th>0</th>\n",
       "      <td>1485.0</td>\n",
       "      <td>355.0</td>\n",
       "      <td>1.0</td>\n",
       "      <td>0.00</td>\n",
       "      <td>75.5</td>\n",
       "      <td>4.0</td>\n",
       "      <td>NaN</td>\n",
       "      <td>9.60</td>\n",
       "      <td>0.600</td>\n",
       "      <td>Go-tan 250G Ramen Noodles Fine</td>\n",
       "      <td>None</td>\n",
       "      <td>[en:plant-based-foods-and-beverages, en:plant-...</td>\n",
       "      <td>[xx:go-tan]</td>\n",
       "      <td>[en:croatia, en:france]</td>\n",
       "      <td>None</td>\n",
       "      <td>1520360983</td>\n",
       "      <td>d</td>\n",
       "      <td>2018</td>\n",
       "      <td>croatia</td>\n",
       "    </tr>\n",
       "    <tr>\n",
       "      <th>1</th>\n",
       "      <td>55.0</td>\n",
       "      <td>13.0</td>\n",
       "      <td>0.5</td>\n",
       "      <td>0.00</td>\n",
       "      <td>1.3</td>\n",
       "      <td>0.0</td>\n",
       "      <td>NaN</td>\n",
       "      <td>0.50</td>\n",
       "      <td>0.240</td>\n",
       "      <td>Kimchi original</td>\n",
       "      <td>None</td>\n",
       "      <td>[en:plant-based-foods-and-beverages, en:plant-...</td>\n",
       "      <td>[xx:heuschen-schrouff]</td>\n",
       "      <td>[en:croatia, en:france, en:germany]</td>\n",
       "      <td>None</td>\n",
       "      <td>1536508884</td>\n",
       "      <td>a</td>\n",
       "      <td>2018</td>\n",
       "      <td>croatia</td>\n",
       "    </tr>\n",
       "    <tr>\n",
       "      <th>2</th>\n",
       "      <td>268.0</td>\n",
       "      <td>64.0</td>\n",
       "      <td>1.0</td>\n",
       "      <td>0.30</td>\n",
       "      <td>7.7</td>\n",
       "      <td>7.6</td>\n",
       "      <td>4.7</td>\n",
       "      <td>3.70</td>\n",
       "      <td>3.920</td>\n",
       "      <td>spice paste for Thai green curry</td>\n",
       "      <td>None</td>\n",
       "      <td>[en:condiments, en:sauces, en:meal-sauces, en:...</td>\n",
       "      <td>[xx:asian-home-gourmet]</td>\n",
       "      <td>[en:croatia, en:france]</td>\n",
       "      <td>None</td>\n",
       "      <td>1517746789</td>\n",
       "      <td>e</td>\n",
       "      <td>2018</td>\n",
       "      <td>croatia</td>\n",
       "    </tr>\n",
       "    <tr>\n",
       "      <th>3</th>\n",
       "      <td>1090.0</td>\n",
       "      <td>260.0</td>\n",
       "      <td>13.8</td>\n",
       "      <td>8.75</td>\n",
       "      <td>28.8</td>\n",
       "      <td>21.0</td>\n",
       "      <td>NaN</td>\n",
       "      <td>4.25</td>\n",
       "      <td>0.108</td>\n",
       "      <td>Nestle Kitkat Bites Intl. Recipe 40g</td>\n",
       "      <td>None</td>\n",
       "      <td>[en:snacks, en:sweet-snacks, en:biscuits-and-c...</td>\n",
       "      <td>[kit-kat]</td>\n",
       "      <td>[en:singapore]</td>\n",
       "      <td>40g</td>\n",
       "      <td>1506137383</td>\n",
       "      <td>d</td>\n",
       "      <td>2017</td>\n",
       "      <td>singapore</td>\n",
       "    </tr>\n",
       "    <tr>\n",
       "      <th>4</th>\n",
       "      <td>NaN</td>\n",
       "      <td>NaN</td>\n",
       "      <td>NaN</td>\n",
       "      <td>NaN</td>\n",
       "      <td>NaN</td>\n",
       "      <td>NaN</td>\n",
       "      <td>NaN</td>\n",
       "      <td>NaN</td>\n",
       "      <td>NaN</td>\n",
       "      <td>jogobella</td>\n",
       "      <td>None</td>\n",
       "      <td>[en:dairies, en:fermented-foods, en:fermented-...</td>\n",
       "      <td>[zott]</td>\n",
       "      <td>[en:albania]</td>\n",
       "      <td>None</td>\n",
       "      <td>1542128701</td>\n",
       "      <td>unknown</td>\n",
       "      <td>2018</td>\n",
       "      <td>albania</td>\n",
       "    </tr>\n",
       "  </tbody>\n",
       "</table>\n",
       "</div>"
      ],
      "text/plain": [
       "   energy_100g  energy-kcal_100g  fat_100g  saturated-fat_100g  \\\n",
       "0       1485.0             355.0       1.0                0.00   \n",
       "1         55.0              13.0       0.5                0.00   \n",
       "2        268.0              64.0       1.0                0.30   \n",
       "3       1090.0             260.0      13.8                8.75   \n",
       "4          NaN               NaN       NaN                 NaN   \n",
       "\n",
       "   carbohydrates_100g  sugars_100g  fiber_100g  proteins_100g  sodium_100g  \\\n",
       "0                75.5          4.0         NaN           9.60        0.600   \n",
       "1                 1.3          0.0         NaN           0.50        0.240   \n",
       "2                 7.7          7.6         4.7           3.70        3.920   \n",
       "3                28.8         21.0         NaN           4.25        0.108   \n",
       "4                 NaN          NaN         NaN            NaN          NaN   \n",
       "\n",
       "                           product_name main_category  \\\n",
       "0        Go-tan 250G Ramen Noodles Fine          None   \n",
       "1                       Kimchi original          None   \n",
       "2      spice paste for Thai green curry          None   \n",
       "3  Nestle Kitkat Bites Intl. Recipe 40g          None   \n",
       "4                             jogobella          None   \n",
       "\n",
       "                                     categories_tags              brands_tags  \\\n",
       "0  [en:plant-based-foods-and-beverages, en:plant-...              [xx:go-tan]   \n",
       "1  [en:plant-based-foods-and-beverages, en:plant-...   [xx:heuschen-schrouff]   \n",
       "2  [en:condiments, en:sauces, en:meal-sauces, en:...  [xx:asian-home-gourmet]   \n",
       "3  [en:snacks, en:sweet-snacks, en:biscuits-and-c...                [kit-kat]   \n",
       "4  [en:dairies, en:fermented-foods, en:fermented-...                   [zott]   \n",
       "\n",
       "                        countries_tags serving_size   created_t  \\\n",
       "0              [en:croatia, en:france]         None  1520360983   \n",
       "1  [en:croatia, en:france, en:germany]         None  1536508884   \n",
       "2              [en:croatia, en:france]         None  1517746789   \n",
       "3                       [en:singapore]          40g  1506137383   \n",
       "4                         [en:albania]         None  1542128701   \n",
       "\n",
       "  nutrition_grade_fr  year    country  \n",
       "0                  d  2018    croatia  \n",
       "1                  a  2018    croatia  \n",
       "2                  e  2018    croatia  \n",
       "3                  d  2017  singapore  \n",
       "4            unknown  2018    albania  "
      ]
     },
     "metadata": {},
     "output_type": "display_data"
    }
   ],
   "source": [
    "display(sample_df.head(5))"
   ]
  },
  {
   "cell_type": "code",
   "execution_count": 9,
   "id": "0143b8ca-01d3-4623-9f65-db7f6d371e46",
   "metadata": {
    "execution": {
     "iopub.execute_input": "2025-07-02T23:21:59.142621Z",
     "iopub.status.busy": "2025-07-02T23:21:59.142265Z",
     "iopub.status.idle": "2025-07-02T23:21:59.342752Z",
     "shell.execute_reply": "2025-07-02T23:21:59.341894Z",
     "shell.execute_reply.started": "2025-07-02T23:21:59.142597Z"
    }
   },
   "outputs": [
    {
     "data": {
      "text/html": [
       "<div>\n",
       "<style scoped>\n",
       "    .dataframe tbody tr th:only-of-type {\n",
       "        vertical-align: middle;\n",
       "    }\n",
       "\n",
       "    .dataframe tbody tr th {\n",
       "        vertical-align: top;\n",
       "    }\n",
       "\n",
       "    .dataframe thead th {\n",
       "        text-align: right;\n",
       "    }\n",
       "</style>\n",
       "<table border=\"1\" class=\"dataframe\">\n",
       "  <thead>\n",
       "    <tr style=\"text-align: right;\">\n",
       "      <th></th>\n",
       "      <th>energy_100g</th>\n",
       "      <th>energy-kcal_100g</th>\n",
       "      <th>fat_100g</th>\n",
       "      <th>saturated-fat_100g</th>\n",
       "      <th>carbohydrates_100g</th>\n",
       "      <th>sugars_100g</th>\n",
       "      <th>fiber_100g</th>\n",
       "      <th>proteins_100g</th>\n",
       "      <th>sodium_100g</th>\n",
       "      <th>product_name</th>\n",
       "      <th>main_category</th>\n",
       "      <th>nutrition_grade_fr</th>\n",
       "      <th>year</th>\n",
       "      <th>country</th>\n",
       "    </tr>\n",
       "  </thead>\n",
       "  <tbody>\n",
       "    <tr>\n",
       "      <th>0</th>\n",
       "      <td>1485.0</td>\n",
       "      <td>355.0</td>\n",
       "      <td>1.0</td>\n",
       "      <td>0.00</td>\n",
       "      <td>75.5</td>\n",
       "      <td>4.0</td>\n",
       "      <td>NaN</td>\n",
       "      <td>9.60</td>\n",
       "      <td>0.600</td>\n",
       "      <td>Go-tan 250G Ramen Noodles Fine</td>\n",
       "      <td>None</td>\n",
       "      <td>d</td>\n",
       "      <td>2018</td>\n",
       "      <td>croatia</td>\n",
       "    </tr>\n",
       "    <tr>\n",
       "      <th>1</th>\n",
       "      <td>55.0</td>\n",
       "      <td>13.0</td>\n",
       "      <td>0.5</td>\n",
       "      <td>0.00</td>\n",
       "      <td>1.3</td>\n",
       "      <td>0.0</td>\n",
       "      <td>NaN</td>\n",
       "      <td>0.50</td>\n",
       "      <td>0.240</td>\n",
       "      <td>Kimchi original</td>\n",
       "      <td>None</td>\n",
       "      <td>a</td>\n",
       "      <td>2018</td>\n",
       "      <td>croatia</td>\n",
       "    </tr>\n",
       "    <tr>\n",
       "      <th>2</th>\n",
       "      <td>268.0</td>\n",
       "      <td>64.0</td>\n",
       "      <td>1.0</td>\n",
       "      <td>0.30</td>\n",
       "      <td>7.7</td>\n",
       "      <td>7.6</td>\n",
       "      <td>4.7</td>\n",
       "      <td>3.70</td>\n",
       "      <td>3.920</td>\n",
       "      <td>spice paste for Thai green curry</td>\n",
       "      <td>None</td>\n",
       "      <td>e</td>\n",
       "      <td>2018</td>\n",
       "      <td>croatia</td>\n",
       "    </tr>\n",
       "    <tr>\n",
       "      <th>3</th>\n",
       "      <td>1090.0</td>\n",
       "      <td>260.0</td>\n",
       "      <td>13.8</td>\n",
       "      <td>8.75</td>\n",
       "      <td>28.8</td>\n",
       "      <td>21.0</td>\n",
       "      <td>NaN</td>\n",
       "      <td>4.25</td>\n",
       "      <td>0.108</td>\n",
       "      <td>Nestle Kitkat Bites Intl. Recipe 40g</td>\n",
       "      <td>None</td>\n",
       "      <td>d</td>\n",
       "      <td>2017</td>\n",
       "      <td>singapore</td>\n",
       "    </tr>\n",
       "    <tr>\n",
       "      <th>4</th>\n",
       "      <td>NaN</td>\n",
       "      <td>NaN</td>\n",
       "      <td>NaN</td>\n",
       "      <td>NaN</td>\n",
       "      <td>NaN</td>\n",
       "      <td>NaN</td>\n",
       "      <td>NaN</td>\n",
       "      <td>NaN</td>\n",
       "      <td>NaN</td>\n",
       "      <td>jogobella</td>\n",
       "      <td>None</td>\n",
       "      <td>unknown</td>\n",
       "      <td>2018</td>\n",
       "      <td>albania</td>\n",
       "    </tr>\n",
       "  </tbody>\n",
       "</table>\n",
       "</div>"
      ],
      "text/plain": [
       "   energy_100g  energy-kcal_100g  fat_100g  saturated-fat_100g  \\\n",
       "0       1485.0             355.0       1.0                0.00   \n",
       "1         55.0              13.0       0.5                0.00   \n",
       "2        268.0              64.0       1.0                0.30   \n",
       "3       1090.0             260.0      13.8                8.75   \n",
       "4          NaN               NaN       NaN                 NaN   \n",
       "\n",
       "   carbohydrates_100g  sugars_100g  fiber_100g  proteins_100g  sodium_100g  \\\n",
       "0                75.5          4.0         NaN           9.60        0.600   \n",
       "1                 1.3          0.0         NaN           0.50        0.240   \n",
       "2                 7.7          7.6         4.7           3.70        3.920   \n",
       "3                28.8         21.0         NaN           4.25        0.108   \n",
       "4                 NaN          NaN         NaN            NaN          NaN   \n",
       "\n",
       "                           product_name main_category nutrition_grade_fr  \\\n",
       "0        Go-tan 250G Ramen Noodles Fine          None                  d   \n",
       "1                       Kimchi original          None                  a   \n",
       "2      spice paste for Thai green curry          None                  e   \n",
       "3  Nestle Kitkat Bites Intl. Recipe 40g          None                  d   \n",
       "4                             jogobella          None            unknown   \n",
       "\n",
       "   year    country  \n",
       "0  2018    croatia  \n",
       "1  2018    croatia  \n",
       "2  2018    croatia  \n",
       "3  2017  singapore  \n",
       "4  2018    albania  "
      ]
     },
     "metadata": {},
     "output_type": "display_data"
    }
   ],
   "source": [
    "# remove some redundant and messy columns before data profiling\n",
    "list_cols = ['categories_tags', 'brands_tags', 'countries_tags', 'serving_size', 'created_t']\n",
    "\n",
    "df_clean = sample_df.copy()\n",
    "\n",
    "# drop those columns\n",
    "df_clean = df_clean.drop(columns=list_cols)\n",
    "\n",
    "display(df_clean.head())"
   ]
  },
  {
   "cell_type": "code",
   "execution_count": 10,
   "id": "953b0aef-42db-4b35-8077-83793cd2ba9f",
   "metadata": {
    "execution": {
     "iopub.execute_input": "2025-07-02T23:22:00.095297Z",
     "iopub.status.busy": "2025-07-02T23:22:00.094827Z",
     "iopub.status.idle": "2025-07-02T23:22:03.311320Z",
     "shell.execute_reply": "2025-07-02T23:22:03.310525Z",
     "shell.execute_reply.started": "2025-07-02T23:22:00.095265Z"
    }
   },
   "outputs": [
    {
     "data": {
      "text/html": [
       "\n",
       "            <div>\n",
       "                <ins><a href=\"https://ydata.ai/register\">Upgrade to ydata-sdk</a></ins>\n",
       "                <p>\n",
       "                    Improve your data and profiling with ydata-sdk, featuring data quality scoring, redundancy detection, outlier identification, text validation, and synthetic data generation.\n",
       "                </p>\n",
       "            </div>\n",
       "            "
      ],
      "text/plain": [
       "<IPython.core.display.HTML object>"
      ]
     },
     "metadata": {},
     "output_type": "display_data"
    }
   ],
   "source": [
    "# create profile report from cleaned dataset\n",
    "from ydata_profiling import ProfileReport\n",
    "import awswrangler as wr\n",
    "profile = ProfileReport(\n",
    "    df_clean,\n",
    "    minimal=True,\n",
    "    title=\"Nutrisage EDA (clean)\",\n",
    "    explorative=True\n",
    ")"
   ]
  },
  {
   "cell_type": "code",
   "execution_count": 11,
   "id": "f1046fcb-bf8f-4938-9268-2ce0ea65fc05",
   "metadata": {
    "execution": {
     "iopub.execute_input": "2025-07-02T23:22:03.678364Z",
     "iopub.status.busy": "2025-07-02T23:22:03.677937Z",
     "iopub.status.idle": "2025-07-02T23:22:22.263403Z",
     "shell.execute_reply": "2025-07-02T23:22:22.262604Z",
     "shell.execute_reply.started": "2025-07-02T23:22:03.678339Z"
    }
   },
   "outputs": [
    {
     "data": {
      "application/vnd.jupyter.widget-view+json": {
       "model_id": "6f0a2471c06f4a47ab3924e4bdc438be",
       "version_major": 2,
       "version_minor": 0
      },
      "text/plain": [
       "Summarize dataset:   0%|          | 0/5 [00:00<?, ?it/s]"
      ]
     },
     "metadata": {},
     "output_type": "display_data"
    },
    {
     "name": "stderr",
     "output_type": "stream",
     "text": [
      "\n",
      "  0%|          | 0/14 [00:00<?, ?it/s]\u001b[A\n",
      "  7%|▋         | 1/14 [00:00<00:02,  4.98it/s]\u001b[A\n",
      " 21%|██▏       | 3/14 [00:00<00:01,  8.26it/s]\u001b[A\n",
      " 36%|███▌      | 5/14 [00:00<00:00,  9.21it/s]\u001b[A\n",
      " 50%|█████     | 7/14 [00:00<00:00, 10.94it/s]\u001b[A\n",
      " 64%|██████▍   | 9/14 [00:01<00:01,  3.80it/s]\u001b[A\n",
      "100%|██████████| 14/14 [00:07<00:00,  1.80it/s]\u001b[A\n"
     ]
    },
    {
     "data": {
      "application/vnd.jupyter.widget-view+json": {
       "model_id": "bbad5c99e60648779b443b988aa35dee",
       "version_major": 2,
       "version_minor": 0
      },
      "text/plain": [
       "Generate report structure:   0%|          | 0/1 [00:00<?, ?it/s]"
      ]
     },
     "metadata": {},
     "output_type": "display_data"
    },
    {
     "data": {
      "application/vnd.jupyter.widget-view+json": {
       "model_id": "07e48d267af44c35bd936f8a3d992513",
       "version_major": 2,
       "version_minor": 0
      },
      "text/plain": [
       "Render HTML:   0%|          | 0/1 [00:00<?, ?it/s]"
      ]
     },
     "metadata": {},
     "output_type": "display_data"
    },
    {
     "data": {
      "application/vnd.jupyter.widget-view+json": {
       "model_id": "5e2db9026355489abdefb2b08acda11d",
       "version_major": 2,
       "version_minor": 0
      },
      "text/plain": [
       "Export report to file:   0%|          | 0/1 [00:00<?, ?it/s]"
      ]
     },
     "metadata": {},
     "output_type": "display_data"
    },
    {
     "data": {
      "application/vnd.jupyter.widget-view+json": {
       "model_id": "140a67453aa74605800a7123048a0f9c",
       "version_major": 2,
       "version_minor": 0
      },
      "text/plain": [
       "Render JSON:   0%|          | 0/1 [00:00<?, ?it/s]"
      ]
     },
     "metadata": {},
     "output_type": "display_data"
    },
    {
     "data": {
      "application/vnd.jupyter.widget-view+json": {
       "model_id": "2588cf72e2344f05abbd0c34f7c08534",
       "version_major": 2,
       "version_minor": 0
      },
      "text/plain": [
       "Export report to file:   0%|          | 0/1 [00:00<?, ?it/s]"
      ]
     },
     "metadata": {},
     "output_type": "display_data"
    },
    {
     "name": "stderr",
     "output_type": "stream",
     "text": [
      "/tmp/ipykernel_7368/893884539.py:5: DeprecationWarning: datetime.datetime.utcnow() is deprecated and scheduled for removal in a future version. Use timezone-aware objects to represent datetimes in UTC: datetime.datetime.now(datetime.UTC).\n",
      "  date = datetime.datetime.utcnow().strftime(\"%Y-%m-%d\")\n"
     ]
    }
   ],
   "source": [
    "# save the report to s3 athena bucket\n",
    "import datetime\n",
    "profile.to_file(\"/tmp/nutrisage_profile.html\")\n",
    "profile.to_file(\"/tmp/nutrisage_profile.json\")\n",
    "date = datetime.datetime.utcnow().strftime(\"%Y-%m-%d\")\n",
    "wr.s3.upload(\"/tmp/nutrisage_profile.html\", f\"s3://nutrisage-athena-results-352364310453/eda/{date}/nutrisage_profile.html\",\n",
    "            use_threads=True, boto3_session=None)\n",
    "wr.s3.upload(\"/tmp/nutrisage_profile.json\", f\"s3://nutrisage-athena-results-352364310453/eda/{date}/nutrisage_profile.json\",\n",
    "            use_threads=True, boto3_session=None)"
   ]
  },
  {
   "cell_type": "markdown",
   "id": "b1619bb1-207b-4c2f-809f-3ef3e7b7db3c",
   "metadata": {},
   "source": [
    "### 3. Outlier and Nonvalid Removal"
   ]
  },
  {
   "cell_type": "markdown",
   "id": "b53decde-a53c-4b64-ad28-6a9cdbf8a674",
   "metadata": {},
   "source": [
    "The initial EDA analysis showed that there are outliers (values larger than 100) in columns reporting the nutrients in 100g portion. So, the first step is dropping those rows.\n",
    "Also, drop main_category colums which is all null. Drop the null and unknown values from nutrition_grade_fr (target) column. \n",
    "I keep record of dropped row and log any rows I drop so the rule is reproducible."
   ]
  },
  {
   "cell_type": "code",
   "execution_count": 12,
   "id": "676552a0-eb26-460d-8200-419e07a71ca5",
   "metadata": {
    "execution": {
     "iopub.execute_input": "2025-07-02T23:22:25.662489Z",
     "iopub.status.busy": "2025-07-02T23:22:25.661770Z",
     "iopub.status.idle": "2025-07-02T23:22:25.763346Z",
     "shell.execute_reply": "2025-07-02T23:22:25.762598Z",
     "shell.execute_reply.started": "2025-07-02T23:22:25.662440Z"
    }
   },
   "outputs": [],
   "source": [
    "import logging\n",
    "import json\n",
    "\n",
    "cols = [col for col in df_clean.columns  if (col.endswith('_100g') and col not in ['energy_100g', 'energy-kcal_100g'])]\n",
    "outliers = df_clean.copy()\n",
    "\n",
    "for col in cols:\n",
    "    mask = (outliers[col] > 100) & (outliers[col] < 0)\n",
    "    outliers = outliers.loc[mask, :]"
   ]
  },
  {
   "cell_type": "code",
   "execution_count": 13,
   "id": "64deb2ae-3e08-4441-85c5-a6805d0f3970",
   "metadata": {
    "execution": {
     "iopub.execute_input": "2025-07-02T23:22:26.854263Z",
     "iopub.status.busy": "2025-07-02T23:22:26.853880Z",
     "iopub.status.idle": "2025-07-02T23:22:27.180946Z",
     "shell.execute_reply": "2025-07-02T23:22:27.180040Z",
     "shell.execute_reply.started": "2025-07-02T23:22:26.854228Z"
    }
   },
   "outputs": [],
   "source": [
    "# Save the outliers\n",
    "outliers.to_parquet(f\"s3://nutrisage-athena-results-352364310453/eda/logs/outliers_{date}.parquet\")"
   ]
  },
  {
   "cell_type": "code",
   "execution_count": 14,
   "id": "f9493347-ad4e-4620-b199-b183565e4e94",
   "metadata": {
    "execution": {
     "iopub.execute_input": "2025-07-02T23:22:28.748726Z",
     "iopub.status.busy": "2025-07-02T23:22:28.748335Z",
     "iopub.status.idle": "2025-07-02T23:22:29.440129Z",
     "shell.execute_reply": "2025-07-02T23:22:29.439389Z",
     "shell.execute_reply.started": "2025-07-02T23:22:28.748702Z"
    }
   },
   "outputs": [
    {
     "data": {
      "text/html": [
       "<div>\n",
       "<style scoped>\n",
       "    .dataframe tbody tr th:only-of-type {\n",
       "        vertical-align: middle;\n",
       "    }\n",
       "\n",
       "    .dataframe tbody tr th {\n",
       "        vertical-align: top;\n",
       "    }\n",
       "\n",
       "    .dataframe thead th {\n",
       "        text-align: right;\n",
       "    }\n",
       "</style>\n",
       "<table border=\"1\" class=\"dataframe\">\n",
       "  <thead>\n",
       "    <tr style=\"text-align: right;\">\n",
       "      <th></th>\n",
       "      <th>energy_100g</th>\n",
       "      <th>energy-kcal_100g</th>\n",
       "      <th>fat_100g</th>\n",
       "      <th>saturated-fat_100g</th>\n",
       "      <th>carbohydrates_100g</th>\n",
       "      <th>sugars_100g</th>\n",
       "      <th>fiber_100g</th>\n",
       "      <th>proteins_100g</th>\n",
       "      <th>sodium_100g</th>\n",
       "      <th>product_name</th>\n",
       "      <th>main_category</th>\n",
       "      <th>nutrition_grade_fr</th>\n",
       "      <th>year</th>\n",
       "      <th>country</th>\n",
       "    </tr>\n",
       "  </thead>\n",
       "  <tbody>\n",
       "    <tr>\n",
       "      <th>0</th>\n",
       "      <td>1485.0</td>\n",
       "      <td>355.0</td>\n",
       "      <td>1.0</td>\n",
       "      <td>0.00</td>\n",
       "      <td>75.5</td>\n",
       "      <td>4.0</td>\n",
       "      <td>NaN</td>\n",
       "      <td>9.60</td>\n",
       "      <td>0.600</td>\n",
       "      <td>Go-tan 250G Ramen Noodles Fine</td>\n",
       "      <td>None</td>\n",
       "      <td>d</td>\n",
       "      <td>2018</td>\n",
       "      <td>croatia</td>\n",
       "    </tr>\n",
       "    <tr>\n",
       "      <th>1</th>\n",
       "      <td>55.0</td>\n",
       "      <td>13.0</td>\n",
       "      <td>0.5</td>\n",
       "      <td>0.00</td>\n",
       "      <td>1.3</td>\n",
       "      <td>0.0</td>\n",
       "      <td>NaN</td>\n",
       "      <td>0.50</td>\n",
       "      <td>0.240</td>\n",
       "      <td>Kimchi original</td>\n",
       "      <td>None</td>\n",
       "      <td>a</td>\n",
       "      <td>2018</td>\n",
       "      <td>croatia</td>\n",
       "    </tr>\n",
       "    <tr>\n",
       "      <th>2</th>\n",
       "      <td>268.0</td>\n",
       "      <td>64.0</td>\n",
       "      <td>1.0</td>\n",
       "      <td>0.30</td>\n",
       "      <td>7.7</td>\n",
       "      <td>7.6</td>\n",
       "      <td>4.7</td>\n",
       "      <td>3.70</td>\n",
       "      <td>3.920</td>\n",
       "      <td>spice paste for Thai green curry</td>\n",
       "      <td>None</td>\n",
       "      <td>e</td>\n",
       "      <td>2018</td>\n",
       "      <td>croatia</td>\n",
       "    </tr>\n",
       "    <tr>\n",
       "      <th>3</th>\n",
       "      <td>1090.0</td>\n",
       "      <td>260.0</td>\n",
       "      <td>13.8</td>\n",
       "      <td>8.75</td>\n",
       "      <td>28.8</td>\n",
       "      <td>21.0</td>\n",
       "      <td>NaN</td>\n",
       "      <td>4.25</td>\n",
       "      <td>0.108</td>\n",
       "      <td>Nestle Kitkat Bites Intl. Recipe 40g</td>\n",
       "      <td>None</td>\n",
       "      <td>d</td>\n",
       "      <td>2017</td>\n",
       "      <td>singapore</td>\n",
       "    </tr>\n",
       "    <tr>\n",
       "      <th>4</th>\n",
       "      <td>NaN</td>\n",
       "      <td>NaN</td>\n",
       "      <td>NaN</td>\n",
       "      <td>NaN</td>\n",
       "      <td>NaN</td>\n",
       "      <td>NaN</td>\n",
       "      <td>NaN</td>\n",
       "      <td>NaN</td>\n",
       "      <td>NaN</td>\n",
       "      <td>jogobella</td>\n",
       "      <td>None</td>\n",
       "      <td>unknown</td>\n",
       "      <td>2018</td>\n",
       "      <td>albania</td>\n",
       "    </tr>\n",
       "  </tbody>\n",
       "</table>\n",
       "</div>"
      ],
      "text/plain": [
       "   energy_100g  energy-kcal_100g  fat_100g  saturated-fat_100g  \\\n",
       "0       1485.0             355.0       1.0                0.00   \n",
       "1         55.0              13.0       0.5                0.00   \n",
       "2        268.0              64.0       1.0                0.30   \n",
       "3       1090.0             260.0      13.8                8.75   \n",
       "4          NaN               NaN       NaN                 NaN   \n",
       "\n",
       "   carbohydrates_100g  sugars_100g  fiber_100g  proteins_100g  sodium_100g  \\\n",
       "0                75.5          4.0         NaN           9.60        0.600   \n",
       "1                 1.3          0.0         NaN           0.50        0.240   \n",
       "2                 7.7          7.6         4.7           3.70        3.920   \n",
       "3                28.8         21.0         NaN           4.25        0.108   \n",
       "4                 NaN          NaN         NaN            NaN          NaN   \n",
       "\n",
       "                           product_name main_category nutrition_grade_fr  \\\n",
       "0        Go-tan 250G Ramen Noodles Fine          None                  d   \n",
       "1                       Kimchi original          None                  a   \n",
       "2      spice paste for Thai green curry          None                  e   \n",
       "3  Nestle Kitkat Bites Intl. Recipe 40g          None                  d   \n",
       "4                             jogobella          None            unknown   \n",
       "\n",
       "   year    country  \n",
       "0  2018    croatia  \n",
       "1  2018    croatia  \n",
       "2  2018    croatia  \n",
       "3  2017  singapore  \n",
       "4  2018    albania  "
      ]
     },
     "execution_count": 14,
     "metadata": {},
     "output_type": "execute_result"
    }
   ],
   "source": [
    "df_proc = df_clean.copy()\n",
    "\n",
    "for col in cols:\n",
    "    mask = df_proc[col].isna() | ((df_proc[col] <= 100) & (df_proc[col] >= 0))\n",
    "    df_proc = df_proc.loc[mask, :]\n",
    "    \n",
    "df_proc.head()"
   ]
  },
  {
   "cell_type": "code",
   "execution_count": 15,
   "id": "c23329a4-4f9a-4ef3-a7f0-1fd3288631ec",
   "metadata": {
    "execution": {
     "iopub.execute_input": "2025-07-02T23:23:10.993157Z",
     "iopub.status.busy": "2025-07-02T23:23:10.992331Z",
     "iopub.status.idle": "2025-07-02T23:23:11.122455Z",
     "shell.execute_reply": "2025-07-02T23:23:11.121509Z",
     "shell.execute_reply.started": "2025-07-02T23:23:10.993128Z"
    }
   },
   "outputs": [
    {
     "data": {
      "text/html": [
       "<div>\n",
       "<style scoped>\n",
       "    .dataframe tbody tr th:only-of-type {\n",
       "        vertical-align: middle;\n",
       "    }\n",
       "\n",
       "    .dataframe tbody tr th {\n",
       "        vertical-align: top;\n",
       "    }\n",
       "\n",
       "    .dataframe thead th {\n",
       "        text-align: right;\n",
       "    }\n",
       "</style>\n",
       "<table border=\"1\" class=\"dataframe\">\n",
       "  <thead>\n",
       "    <tr style=\"text-align: right;\">\n",
       "      <th></th>\n",
       "      <th>energy_100g</th>\n",
       "      <th>energy-kcal_100g</th>\n",
       "      <th>fat_100g</th>\n",
       "      <th>saturated-fat_100g</th>\n",
       "      <th>carbohydrates_100g</th>\n",
       "      <th>sugars_100g</th>\n",
       "      <th>fiber_100g</th>\n",
       "      <th>proteins_100g</th>\n",
       "      <th>sodium_100g</th>\n",
       "      <th>product_name</th>\n",
       "      <th>nutrition_grade_fr</th>\n",
       "      <th>year</th>\n",
       "      <th>country</th>\n",
       "    </tr>\n",
       "  </thead>\n",
       "  <tbody>\n",
       "    <tr>\n",
       "      <th>0</th>\n",
       "      <td>1485.0</td>\n",
       "      <td>355.0</td>\n",
       "      <td>1.0</td>\n",
       "      <td>0.00</td>\n",
       "      <td>75.5</td>\n",
       "      <td>4.0</td>\n",
       "      <td>NaN</td>\n",
       "      <td>9.60</td>\n",
       "      <td>0.600</td>\n",
       "      <td>Go-tan 250G Ramen Noodles Fine</td>\n",
       "      <td>d</td>\n",
       "      <td>2018</td>\n",
       "      <td>croatia</td>\n",
       "    </tr>\n",
       "    <tr>\n",
       "      <th>1</th>\n",
       "      <td>55.0</td>\n",
       "      <td>13.0</td>\n",
       "      <td>0.5</td>\n",
       "      <td>0.00</td>\n",
       "      <td>1.3</td>\n",
       "      <td>0.0</td>\n",
       "      <td>NaN</td>\n",
       "      <td>0.50</td>\n",
       "      <td>0.240</td>\n",
       "      <td>Kimchi original</td>\n",
       "      <td>a</td>\n",
       "      <td>2018</td>\n",
       "      <td>croatia</td>\n",
       "    </tr>\n",
       "    <tr>\n",
       "      <th>2</th>\n",
       "      <td>268.0</td>\n",
       "      <td>64.0</td>\n",
       "      <td>1.0</td>\n",
       "      <td>0.30</td>\n",
       "      <td>7.7</td>\n",
       "      <td>7.6</td>\n",
       "      <td>4.7</td>\n",
       "      <td>3.70</td>\n",
       "      <td>3.920</td>\n",
       "      <td>spice paste for Thai green curry</td>\n",
       "      <td>e</td>\n",
       "      <td>2018</td>\n",
       "      <td>croatia</td>\n",
       "    </tr>\n",
       "    <tr>\n",
       "      <th>3</th>\n",
       "      <td>1090.0</td>\n",
       "      <td>260.0</td>\n",
       "      <td>13.8</td>\n",
       "      <td>8.75</td>\n",
       "      <td>28.8</td>\n",
       "      <td>21.0</td>\n",
       "      <td>NaN</td>\n",
       "      <td>4.25</td>\n",
       "      <td>0.108</td>\n",
       "      <td>Nestle Kitkat Bites Intl. Recipe 40g</td>\n",
       "      <td>d</td>\n",
       "      <td>2017</td>\n",
       "      <td>singapore</td>\n",
       "    </tr>\n",
       "    <tr>\n",
       "      <th>9</th>\n",
       "      <td>1071.0</td>\n",
       "      <td>256.0</td>\n",
       "      <td>0.0</td>\n",
       "      <td>0.00</td>\n",
       "      <td>64.0</td>\n",
       "      <td>3.0</td>\n",
       "      <td>7.0</td>\n",
       "      <td>2.00</td>\n",
       "      <td>3.048</td>\n",
       "      <td>CHERRY JAM</td>\n",
       "      <td>d</td>\n",
       "      <td>2018</td>\n",
       "      <td>democratic-republic-of-the-congo</td>\n",
       "    </tr>\n",
       "  </tbody>\n",
       "</table>\n",
       "</div>"
      ],
      "text/plain": [
       "   energy_100g  energy-kcal_100g  fat_100g  saturated-fat_100g  \\\n",
       "0       1485.0             355.0       1.0                0.00   \n",
       "1         55.0              13.0       0.5                0.00   \n",
       "2        268.0              64.0       1.0                0.30   \n",
       "3       1090.0             260.0      13.8                8.75   \n",
       "9       1071.0             256.0       0.0                0.00   \n",
       "\n",
       "   carbohydrates_100g  sugars_100g  fiber_100g  proteins_100g  sodium_100g  \\\n",
       "0                75.5          4.0         NaN           9.60        0.600   \n",
       "1                 1.3          0.0         NaN           0.50        0.240   \n",
       "2                 7.7          7.6         4.7           3.70        3.920   \n",
       "3                28.8         21.0         NaN           4.25        0.108   \n",
       "9                64.0          3.0         7.0           2.00        3.048   \n",
       "\n",
       "                           product_name nutrition_grade_fr  year  \\\n",
       "0        Go-tan 250G Ramen Noodles Fine                  d  2018   \n",
       "1                       Kimchi original                  a  2018   \n",
       "2      spice paste for Thai green curry                  e  2018   \n",
       "3  Nestle Kitkat Bites Intl. Recipe 40g                  d  2017   \n",
       "9                            CHERRY JAM                  d  2018   \n",
       "\n",
       "                            country  \n",
       "0                           croatia  \n",
       "1                           croatia  \n",
       "2                           croatia  \n",
       "3                         singapore  \n",
       "9  democratic-republic-of-the-congo  "
      ]
     },
     "execution_count": 15,
     "metadata": {},
     "output_type": "execute_result"
    }
   ],
   "source": [
    "df_proc = df_proc.loc[df_proc['nutrition_grade_fr'].isin(['a', 'b', 'c', 'd', 'e']), :]\n",
    "df_proc.drop(columns=['main_category'], inplace=True)\n",
    "df_proc.reset_index()\n",
    "df_proc.head()"
   ]
  },
  {
   "cell_type": "code",
   "execution_count": 18,
   "id": "7c63b3ee-9c57-4bc1-b590-9d0ea0efe2fb",
   "metadata": {
    "execution": {
     "iopub.execute_input": "2025-07-02T23:24:31.458085Z",
     "iopub.status.busy": "2025-07-02T23:24:31.457707Z",
     "iopub.status.idle": "2025-07-02T23:24:41.110719Z",
     "shell.execute_reply": "2025-07-02T23:24:41.109853Z",
     "shell.execute_reply.started": "2025-07-02T23:24:31.458059Z"
    }
   },
   "outputs": [
    {
     "data": {
      "application/vnd.jupyter.widget-view+json": {
       "model_id": "5088f1e1caf343c19aa36837b8b8806c",
       "version_major": 2,
       "version_minor": 0
      },
      "text/plain": [
       "Summarize dataset:   0%|          | 0/5 [00:00<?, ?it/s]"
      ]
     },
     "metadata": {},
     "output_type": "display_data"
    },
    {
     "name": "stderr",
     "output_type": "stream",
     "text": [
      "\n",
      "  0%|          | 0/13 [00:00<?, ?it/s]\u001b[A\n",
      " 38%|███▊      | 5/13 [00:00<00:00, 39.96it/s]\u001b[A\n",
      " 69%|██████▉   | 9/13 [00:00<00:00, 16.78it/s]\u001b[A\n",
      "100%|██████████| 13/13 [00:02<00:00,  5.83it/s]\u001b[A\n"
     ]
    },
    {
     "data": {
      "application/vnd.jupyter.widget-view+json": {
       "model_id": "fb79f8842f41481a9b44ebf6f56af739",
       "version_major": 2,
       "version_minor": 0
      },
      "text/plain": [
       "Generate report structure:   0%|          | 0/1 [00:00<?, ?it/s]"
      ]
     },
     "metadata": {},
     "output_type": "display_data"
    },
    {
     "data": {
      "application/vnd.jupyter.widget-view+json": {
       "model_id": "799bccc92a3b47669305eb2ea97a28d7",
       "version_major": 2,
       "version_minor": 0
      },
      "text/plain": [
       "Render HTML:   0%|          | 0/1 [00:00<?, ?it/s]"
      ]
     },
     "metadata": {},
     "output_type": "display_data"
    },
    {
     "data": {
      "application/vnd.jupyter.widget-view+json": {
       "model_id": "91b7038e2073402382b750b3c1ea030f",
       "version_major": 2,
       "version_minor": 0
      },
      "text/plain": [
       "Export report to file:   0%|          | 0/1 [00:00<?, ?it/s]"
      ]
     },
     "metadata": {},
     "output_type": "display_data"
    },
    {
     "data": {
      "application/vnd.jupyter.widget-view+json": {
       "model_id": "38c2a1d9d32e49f6bbbb493e5d2094dd",
       "version_major": 2,
       "version_minor": 0
      },
      "text/plain": [
       "Render JSON:   0%|          | 0/1 [00:00<?, ?it/s]"
      ]
     },
     "metadata": {},
     "output_type": "display_data"
    },
    {
     "data": {
      "application/vnd.jupyter.widget-view+json": {
       "model_id": "caf80011e9be4de4b068c8e1f50eded8",
       "version_major": 2,
       "version_minor": 0
      },
      "text/plain": [
       "Export report to file:   0%|          | 0/1 [00:00<?, ?it/s]"
      ]
     },
     "metadata": {},
     "output_type": "display_data"
    }
   ],
   "source": [
    "profile = ProfileReport(\n",
    "    df_proc,\n",
    "    minimal=True,\n",
    "    title=\"Nutrisage EDA (clean-Outlier removal)\",\n",
    "    explorative=True\n",
    ")\n",
    "\n",
    "profile.to_file(\"/tmp/nutrisage_profile_oulier_removal.html\")\n",
    "wr.s3.upload(\"/tmp/nutrisage_profile_oulier_removal.html\", f\"s3://nutrisage-athena-results-352364310453/eda/{date}/nutrisage_profile_oulier_removal.html\",\n",
    "            use_threads=True, boto3_session=None)\n",
    "\n",
    "profile.to_file(\"/tmp/nutrisage_profile_oulier_removal.json\")\n",
    "wr.s3.upload(\"/tmp/nutrisage_profile_oulier_removal.json\", f\"s3://nutrisage-athena-results-352364310453/eda/{date}/nutrisage_profile_oulier_removal.json\",\n",
    "            use_threads=True, boto3_session=None)"
   ]
  },
  {
   "cell_type": "code",
   "execution_count": 19,
   "id": "b0940214-8f35-4e3a-8991-fae5070907a7",
   "metadata": {
    "execution": {
     "iopub.execute_input": "2025-07-02T23:24:41.135382Z",
     "iopub.status.busy": "2025-07-02T23:24:41.135077Z",
     "iopub.status.idle": "2025-07-02T23:24:41.140796Z",
     "shell.execute_reply": "2025-07-02T23:24:41.139859Z",
     "shell.execute_reply.started": "2025-07-02T23:24:41.135353Z"
    }
   },
   "outputs": [
    {
     "data": {
      "text/plain": [
       "(116745, 13)"
      ]
     },
     "execution_count": 19,
     "metadata": {},
     "output_type": "execute_result"
    }
   ],
   "source": [
    "df_proc.shape"
   ]
  },
  {
   "cell_type": "code",
   "execution_count": 20,
   "id": "684ead3f-1588-4a5f-9642-3c63671b3133",
   "metadata": {
    "execution": {
     "iopub.execute_input": "2025-07-02T23:24:41.165307Z",
     "iopub.status.busy": "2025-07-02T23:24:41.164540Z",
     "iopub.status.idle": "2025-07-02T23:24:41.184486Z",
     "shell.execute_reply": "2025-07-02T23:24:41.183547Z",
     "shell.execute_reply.started": "2025-07-02T23:24:41.165274Z"
    }
   },
   "outputs": [
    {
     "data": {
      "text/plain": [
       "nutrition_grade_fr\n",
       "e    32604\n",
       "d    29850\n",
       "c    24239\n",
       "a    16312\n",
       "b    13740\n",
       "Name: count, dtype: int64"
      ]
     },
     "execution_count": 20,
     "metadata": {},
     "output_type": "execute_result"
    }
   ],
   "source": [
    "df_proc['nutrition_grade_fr'].value_counts()"
   ]
  },
  {
   "cell_type": "markdown",
   "id": "0cab2e8b-cb25-4e09-9439-263ddb4c49ae",
   "metadata": {},
   "source": [
    "### 4. Correlation analysis"
   ]
  },
  {
   "cell_type": "markdown",
   "id": "fc7e491d-251e-4124-8733-e9ee95f3e069",
   "metadata": {},
   "source": [
    "First, I drop fiber_100g since it has more than 45% missing values. Also, I drop energy_100g and keep energy-kcal_100g."
   ]
  },
  {
   "cell_type": "code",
   "execution_count": 21,
   "id": "e8c3bc9b-0210-4d06-a170-bb5a2af1201e",
   "metadata": {
    "execution": {
     "iopub.execute_input": "2025-07-02T23:24:44.029601Z",
     "iopub.status.busy": "2025-07-02T23:24:44.029244Z",
     "iopub.status.idle": "2025-07-02T23:24:44.046134Z",
     "shell.execute_reply": "2025-07-02T23:24:44.045386Z",
     "shell.execute_reply.started": "2025-07-02T23:24:44.029576Z"
    }
   },
   "outputs": [],
   "source": [
    "df_proc.drop(columns=['fiber_100g', 'energy_100g'], inplace=True)"
   ]
  },
  {
   "cell_type": "markdown",
   "id": "5d04843e-b93a-47c3-ab0f-456c4a0b2c6a",
   "metadata": {},
   "source": [
    "First, I would like to do a correlation analysis on missing values. The goal is to check if the missing values are systematic or not."
   ]
  },
  {
   "cell_type": "code",
   "execution_count": 22,
   "id": "63bfc72f-641f-45df-a692-90aa6ab264e6",
   "metadata": {
    "execution": {
     "iopub.execute_input": "2025-07-02T23:24:46.806515Z",
     "iopub.status.busy": "2025-07-02T23:24:46.806102Z",
     "iopub.status.idle": "2025-07-02T23:24:47.155406Z",
     "shell.execute_reply": "2025-07-02T23:24:47.154596Z",
     "shell.execute_reply.started": "2025-07-02T23:24:46.806490Z"
    }
   },
   "outputs": [
    {
     "data": {
      "text/plain": [
       "<Axes: >"
      ]
     },
     "execution_count": 22,
     "metadata": {},
     "output_type": "execute_result"
    },
    {
     "data": {
      "image/png": "[encoded data removed]",
      "text/plain": [
       "<Figure size 640x480 with 2 Axes>"
      ]
     },
     "metadata": {},
     "output_type": "display_data"
    }
   ],
   "source": [
    "import seaborn as sns\n",
    "import matplotlib.pyplot as plt\n",
    "\n",
    "%matplotlib inline\n",
    "miss = df_proc.isna().astype(int)\n",
    "miss_corr = miss.iloc[:, :7].corr()\n",
    "sns.heatmap(miss_corr)\n"
   ]
  },
  {
   "cell_type": "code",
   "execution_count": 23,
   "id": "56f14259-521c-46db-b8c7-e0d8f5d835fb",
   "metadata": {
    "execution": {
     "iopub.execute_input": "2025-07-02T23:24:49.509318Z",
     "iopub.status.busy": "2025-07-02T23:24:49.508880Z",
     "iopub.status.idle": "2025-07-02T23:24:49.768309Z",
     "shell.execute_reply": "2025-07-02T23:24:49.767401Z",
     "shell.execute_reply.started": "2025-07-02T23:24:49.509292Z"
    }
   },
   "outputs": [
    {
     "data": {
      "text/plain": [
       "<Axes: >"
      ]
     },
     "execution_count": 23,
     "metadata": {},
     "output_type": "execute_result"
    },
    {
     "data": {
      "image/png": "[encoded data removed]",
      "text/plain": [
       "<Figure size 640x480 with 2 Axes>"
      ]
     },
     "metadata": {},
     "output_type": "display_data"
    }
   ],
   "source": [
    "corr = df_proc.iloc[:,:7].corr()\n",
    "sns.heatmap(corr)"
   ]
  },
  {
   "cell_type": "code",
   "execution_count": 24,
   "id": "652c65f8-03cf-4980-9dc2-a8942d98b89c",
   "metadata": {
    "execution": {
     "iopub.execute_input": "2025-07-02T23:25:01.798808Z",
     "iopub.status.busy": "2025-07-02T23:25:01.798419Z",
     "iopub.status.idle": "2025-07-02T23:25:02.297439Z",
     "shell.execute_reply": "2025-07-02T23:25:02.296403Z",
     "shell.execute_reply.started": "2025-07-02T23:25:01.798779Z"
    }
   },
   "outputs": [],
   "source": [
    "#save the data to s3 bucket\n",
    "df_proc.to_parquet(f\"s3://nutrisage-processed-352364310453/clean_sample/{date}/clean_processed.parquet\")"
   ]
  }
 ],
 "metadata": {
  "kernelspec": {
   "display_name": "Python 3 (ipykernel)",
   "language": "python",
   "name": "python3"
  },
  "language_info": {
   "codemirror_mode": {
    "name": "ipython",
    "version": 3
   },
   "file_extension": ".py",
   "mimetype": "text/x-python",
   "name": "python",
   "nbconvert_exporter": "python",
   "pygments_lexer": "ipython3",
   "version": "3.12.9"
  }
 },
 "nbformat": 4,
 "nbformat_minor": 5
}
